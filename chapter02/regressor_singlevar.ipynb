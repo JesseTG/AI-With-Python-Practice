{
 "cells": [
  {
   "cell_type": "markdown",
   "metadata": {},
   "source": [
    "# Single-Variable Regression\n",
    "\n",
    "We're not concerned with classifying features with a fixed set of labels anymore.  Now, given a real-valued input we want to make a pretty good guess for a real-valued output.\n",
    "\n",
    "The input variables *don't have to be* independent for this to be useful!\n",
    "\n",
    "However, we assume that the output depends on the input."
   ]
  },
  {
   "cell_type": "code",
   "execution_count": 2,
   "metadata": {},
   "outputs": [],
   "source": [
    "import numpy\n",
    "from sklearn import linear_model, metrics, model_selection\n",
    "from matplotlib import pyplot\n",
    "import ipywidgets as widgets\n",
    "\n",
    "import sys\n",
    "\n",
    "sys.path.append(\"../\")\n",
    "\n",
    "from common import common_widgets"
   ]
  },
  {
   "cell_type": "code",
   "execution_count": 3,
   "metadata": {},
   "outputs": [],
   "source": [
    "input_file = \"data_singlevar_regr.txt\"\n",
    "\n",
    "data = numpy.loadtxt(input_file, delimiter=\",\")\n",
    "\n",
    "# This time it literally does mean X and Y\n",
    "X, Y = data[:, :-1], data[:, -1]"
   ]
  },
  {
   "cell_type": "code",
   "execution_count": 4,
   "metadata": {},
   "outputs": [
    {
     "data": {
      "application/vnd.jupyter.widget-view+json": {
       "model_id": "5a7793776e7142a8a04272e0b7eaccbf",
       "version_major": 2,
       "version_minor": 0
      },
      "text/plain": [
       "interactive(children=(FloatSlider(value=0.2, continuous_update=False, description='% Test Data', max=0.95, min…"
      ]
     },
     "metadata": {},
     "output_type": "display_data"
    }
   ],
   "source": [
    "def regress(test_size=0.2, random_state=0):\n",
    "    split = model_selection.train_test_split(X, Y, test_size=test_size, random_state=random_state)\n",
    "    X_train, X_test = split[0], split[1]\n",
    "    Y_train, Y_test = split[2], split[3]\n",
    "    regressor = linear_model.LinearRegression()\n",
    "\n",
    "    regressor.fit(X_train, Y_train)\n",
    "\n",
    "    predictions = regressor.predict(X_test)\n",
    "\n",
    "    pyplot.scatter(X_test, Y_test, color=\"green\")\n",
    "    pyplot.plot(X_test, predictions, color=\"black\", linewidth=4)\n",
    "    pyplot.show()\n",
    "\n",
    "    print(\"Linear Regressor Performance:\")\n",
    "    print(\"\\tMean Absolute Error\\t= {:.2f}\".format(metrics.mean_absolute_error(Y_test, predictions)))\n",
    "    print(\"\\tMean Squared Error\\t= {:.2f}\".format(metrics.mean_squared_error(Y_test, predictions)))\n",
    "    print(\"\\tMedian Absolute Error\\t= {:.2f}\".format(metrics.median_absolute_error(Y_test, predictions)))\n",
    "    print(\"\\tExplain Variance Score\\t= {:.2f}\".format(metrics.explained_variance_score(Y_test, predictions)))\n",
    "    print(\"\\tR2 Score\\t= {:.2f}\".format(metrics.r2_score(Y_test, predictions)))\n",
    "\n",
    "widgets.interactive(\n",
    "    regress,\n",
    "    test_size=common_widgets.test_size,\n",
    "    random_state=common_widgets.random_seed\n",
    ")"
   ]
  }
 ],
 "metadata": {
  "kernelspec": {
   "display_name": "Python 3",
   "language": "python",
   "name": "python3"
  },
  "language_info": {
   "codemirror_mode": {
    "name": "ipython",
    "version": 3
   },
   "file_extension": ".py",
   "mimetype": "text/x-python",
   "name": "python",
   "nbconvert_exporter": "python",
   "pygments_lexer": "ipython3",
   "version": "3.6.5"
  }
 },
 "nbformat": 4,
 "nbformat_minor": 2
}
