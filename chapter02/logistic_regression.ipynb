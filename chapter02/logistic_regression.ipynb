{
 "cells": [
  {
   "cell_type": "markdown",
   "metadata": {},
   "source": [
    "# Logistic Regression\n",
    "\n",
    "- Good for classification.\n",
    "- Very simple and very common.\n",
    "- Assumes each input variable is independent.\n",
    "\n",
    "**NOTE:** You can annotate the type of a variable like so:\n",
    "\n",
    "```\n",
    "variable = value # type: type_of_value\n",
    "```\n",
    "\n",
    "If you're doing variable destructuring, this works:\n",
    "\n",
    "```\n",
    "var1, var2 = value # type: type1, type2\n",
    "```"
   ]
  },
  {
   "cell_type": "code",
   "execution_count": 17,
   "metadata": {},
   "outputs": [],
   "source": [
    "# Imports and definitions\n",
    "import numpy\n",
    "from numpy import ndarray, array\n",
    "from sklearn import preprocessing, linear_model\n",
    "from matplotlib import pyplot\n",
    "import ipywidgets as widgets\n",
    "from IPython.display import display\n",
    "\n",
    "import sys\n",
    "\n",
    "sys.path.append(\"../\")\n",
    "\n",
    "from common import util, common_widgets"
   ]
  },
  {
   "cell_type": "code",
   "execution_count": 12,
   "metadata": {},
   "outputs": [],
   "source": [
    "# Training Data Points\n",
    "training_data = array([\n",
    "    [3.1, 7.2],\n",
    "    [4, 6.7],\n",
    "    [2.9, 8],\n",
    "    [5.1, 4.5],\n",
    "    [6, 5],\n",
    "    [5.6, 5],\n",
    "    [3.3, 0.4],\n",
    "    [3.9, 0.9],\n",
    "    [2.8, 1],\n",
    "    [0.5, 3.4],\n",
    "    [1, 4],\n",
    "    [0.6, 4.9]\n",
    "])  # type: ndarray\n",
    "\n",
    "# Labels for Training Data\n",
    "data_labels = array([0, 0, 0, 1, 1, 1, 2, 2, 2, 3, 3, 3])  # type: ndarray"
   ]
  },
  {
   "cell_type": "markdown",
   "metadata": {},
   "source": [
    "**NOTE:** Logistic regression assumes each input variable is independent!\n",
    "\n",
    "Not technically a classification technique but can be used like one"
   ]
  },
  {
   "cell_type": "code",
   "execution_count": 19,
   "metadata": {},
   "outputs": [
    {
     "data": {
      "application/vnd.jupyter.widget-view+json": {
       "model_id": "eaca155d1fb64dc685c4c43dc2f2d8c6"
      }
     },
     "metadata": {},
     "output_type": "display_data"
    }
   ],
   "source": [
    "def classify(solver, C):\n",
    "    classifier = linear_model.LogisticRegression(solver=solver, C=C)\n",
    "    classifier.fit(training_data, data_labels)\n",
    "    util.visualize_classifier(classifier, training_data, data_labels, \"Logistic Regression\")\n",
    "\n",
    "C = widgets.IntSlider(value=1, min=1, max=100, step=1, continuous_update=False)\n",
    "\n",
    "widgets.interactive(\n",
    "    classify_logreg,\n",
    "    solver=common_widgets.solver,\n",
    "    C=C\n",
    ")"
   ]
  }
 ],
 "metadata": {
  "kernelspec": {
   "display_name": "Python 3",
   "language": "python",
   "name": "python3"
  },
  "language_info": {
   "codemirror_mode": {
    "name": "ipython",
    "version": 3
   },
   "file_extension": ".py",
   "mimetype": "text/x-python",
   "name": "python",
   "nbconvert_exporter": "python",
   "pygments_lexer": "ipython3",
   "version": "3.6.5"
  }
 },
 "nbformat": 4,
 "nbformat_minor": 2
}
