{
 "cells": [
  {
   "cell_type": "markdown",
   "metadata": {},
   "source": [
    "# Multivariable Regression"
   ]
  },
  {
   "cell_type": "code",
   "execution_count": 1,
   "metadata": {},
   "outputs": [],
   "source": [
    "import numpy\n",
    "import sys\n",
    "from sklearn import metrics, linear_model, model_selection\n",
    "from sklearn.preprocessing import PolynomialFeatures\n",
    "import ipywidgets as widgets\n",
    "\n",
    "sys.path.append(\"../\")\n",
    "\n",
    "from common import common_widgets"
   ]
  },
  {
   "cell_type": "markdown",
   "metadata": {},
   "source": [
    "## Loading Data"
   ]
  },
  {
   "cell_type": "code",
   "execution_count": 2,
   "metadata": {},
   "outputs": [],
   "source": [
    "input_file = \"data_multivar_regr.txt\"\n",
    "\n",
    "data = numpy.loadtxt(input_file, delimiter=\",\")\n",
    "\n",
    "# X (the first three columns) is the input\n",
    "# Y (the last column) is the output\n",
    "X, Y = data[:, :-1], data[:, -1]"
   ]
  },
  {
   "cell_type": "code",
   "execution_count": 3,
   "metadata": {},
   "outputs": [
    {
     "data": {
      "application/vnd.jupyter.widget-view+json": {
       "model_id": "c13ff342c4314e91985e25af8229a75d"
      }
     },
     "metadata": {},
     "output_type": "display_data"
    }
   ],
   "source": [
    "def regress(x, y, z, test_size=0.2, random_state=0, degree=10):\n",
    "    split = model_selection.train_test_split(X, Y, test_size=test_size, random_state=random_state)\n",
    "    X_train, X_test = split[0], split[1]\n",
    "    Y_train, Y_test = split[2], split[3]\n",
    "\n",
    "    linear = linear_model.LinearRegression()\n",
    "    linear.fit(X_train, Y_train)\n",
    "    linear_predictions = linear.predict(X_test)\n",
    "    \n",
    "    polynomial = PolynomialFeatures(degree=degree)\n",
    "    X_train_transformed = polynomial.fit_transform(X_train)\n",
    "    datapoint = [[x, y, z]]\n",
    "    poly_datapoint = polynomial.fit_transform(datapoint)\n",
    "    \n",
    "    # TODO: Split the training and the prediction into separate widget-controlled functions\n",
    "    poly_linear = linear_model.LinearRegression()\n",
    "    poly_linear.fit(X_train_transformed, Y_train)\n",
    "    \n",
    "    \n",
    "    print(\"Linear Regressor Performance:\")\n",
    "    print(\"\\tMean Absolute Error\\t= {:.2f}\".format(metrics.mean_absolute_error(Y_test, linear_predictions)))\n",
    "    print(\"\\tMean Squared Error\\t= {:.2f}\".format(metrics.mean_squared_error(Y_test, linear_predictions)))\n",
    "    print(\"\\tMedian Absolute Error\\t= {:.2f}\".format(metrics.median_absolute_error(Y_test, linear_predictions)))\n",
    "    print(\"\\tExplain Variance Score\\t= {:.2f}\".format(metrics.explained_variance_score(Y_test, linear_predictions)))\n",
    "    print(\"\\tR2 Score\\t= {:.2f}\".format(metrics.r2_score(Y_test, linear_predictions)))\n",
    "    print(\"\\tLinear regression:\", linear.predict(datapoint))\n",
    "    print(\"\\tPolynomial regression:\", poly_linear.predict(poly_datapoint))\n",
    "\n",
    "def dimension(label):\n",
    "    return widgets.FloatText(value=0, description=label)\n",
    "\n",
    "widgets.interactive(\n",
    "    regress,\n",
    "    x=dimension(\"x\"),\n",
    "    y=dimension(\"y\"),\n",
    "    z=dimension(\"z\"),\n",
    "    test_size=common_widgets.test_size,\n",
    "    random_state=common_widgets.random_seed,\n",
    "    degree=(2, 20, 1)\n",
    ")"
   ]
  },
  {
   "cell_type": "code",
   "execution_count": null,
   "metadata": {},
   "outputs": [],
   "source": []
  }
 ],
 "metadata": {
  "kernelspec": {
   "display_name": "Python 3",
   "language": "python",
   "name": "python3"
  },
  "language_info": {
   "codemirror_mode": {
    "name": "ipython",
    "version": 3
   },
   "file_extension": ".py",
   "mimetype": "text/x-python",
   "name": "python",
   "nbconvert_exporter": "python",
   "pygments_lexer": "ipython3",
   "version": "3.6.5"
  }
 },
 "nbformat": 4,
 "nbformat_minor": 2
}
