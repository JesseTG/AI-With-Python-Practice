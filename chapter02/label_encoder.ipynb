{
 "cells": [
  {
   "cell_type": "markdown",
   "metadata": {},
   "source": [
    "# Label Encoding"
   ]
  },
  {
   "cell_type": "code",
   "execution_count": 5,
   "metadata": {},
   "outputs": [],
   "source": [
    "# Imports and definitions\n",
    "import numpy\n",
    "from numpy import ndarray, array\n",
    "from sklearn import preprocessing"
   ]
  },
  {
   "cell_type": "code",
   "execution_count": 8,
   "metadata": {},
   "outputs": [],
   "source": [
    "labels = ('red', 'black', 'red', 'green', 'black', 'yellow', 'white')"
   ]
  },
  {
   "cell_type": "markdown",
   "metadata": {},
   "source": [
    "**NOTE:** Labels can be anything, not just strings.\n",
    "\n",
    "`LabelEncoder` sorts them and removes duplicates before indexing them."
   ]
  },
  {
   "cell_type": "code",
   "execution_count": 7,
   "metadata": {},
   "outputs": [
    {
     "name": "stdout",
     "output_type": "stream",
     "text": [
      "Labels: ('red', 'black', 'red', 'green', 'black', 'yellow', 'white')\n",
      "Label Mapping:\n",
      "\tblack\t---> 0\n",
      "\tgreen\t---> 1\n",
      "\tred\t---> 2\n",
      "\twhite\t---> 3\n",
      "\tyellow\t---> 4\n",
      "\n",
      "Sample Data: ('red', 'green', 'black')\n",
      "Encoded: [2 1 0]\n",
      "\n",
      "Sample Indices: (1, 2, 0, 0, 3)\n",
      "Decoded: ['green' 'red' 'black' 'black' 'white']\n"
     ]
    }
   ],
   "source": [
    "# Label Encoding\n",
    "\n",
    "\n",
    "\n",
    "sample_labels = ('red', 'green', 'black')\n",
    "sample_indicies = (1, 2, 0, 0, 3)\n",
    "\n",
    "encoder = preprocessing.LabelEncoder()\n",
    "encoder.fit(labels)\n",
    "\n",
    "encoded_sample_labels = encoder.transform(sample_labels)\n",
    "decoded_sample_indices = encoder.inverse_transform(sample_indicies)\n",
    "\n",
    "print(\"Labels:\", labels)\n",
    "print(\"Label Mapping:\")\n",
    "for index, label in enumerate(encoder.classes_):\n",
    "    print(\"\\t{0}\\t--->\".format(label), index)\n",
    "\n",
    "print()\n",
    "print(\"Sample Data:\", sample_labels)\n",
    "print(\"Encoded:\", encoded_sample_labels)\n",
    "print()\n",
    "\n",
    "print(\"Sample Indices:\", sample_indicies)\n",
    "print(\"Decoded:\", decoded_sample_indices)"
   ]
  }
 ],
 "metadata": {
  "kernelspec": {
   "display_name": "Python 3",
   "language": "python",
   "name": "python3"
  },
  "language_info": {
   "codemirror_mode": {
    "name": "ipython",
    "version": 3
   },
   "file_extension": ".py",
   "mimetype": "text/x-python",
   "name": "python",
   "nbconvert_exporter": "python",
   "pygments_lexer": "ipython3",
   "version": "3.6.3"
  }
 },
 "nbformat": 4,
 "nbformat_minor": 2
}
