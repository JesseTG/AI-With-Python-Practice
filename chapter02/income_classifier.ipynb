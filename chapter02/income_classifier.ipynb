{
 "cells": [
  {
   "cell_type": "markdown",
   "metadata": {},
   "source": [
    "# Classifying Income Data Using Support Vector Machines\n",
    "\n",
    "**Support Vector Machines** are classifiers that are defined using a hyperplane that separates classes  SVMs are good for binary classification problems, but can also be used for $N$ classes with a little bit of creativity.\n",
    "\n",
    "The data set comes from [here](https://archive.ics.uci.edu/ml/datasets/Census+Income)."
   ]
  },
  {
   "cell_type": "code",
   "execution_count": 1,
   "metadata": {},
   "outputs": [],
   "source": [
    "# Imports\n",
    "\n",
    "import numpy\n",
    "from matplotlib import pyplot\n",
    "from sklearn import preprocessing\n",
    "from sklearn.svm import LinearSVC\n",
    "from sklearn.multiclass import OneVsOneClassifier\n",
    "from sklearn import model_selection\n",
    "import ipywidgets as widgets\n",
    "from IPython.display import display\n",
    "\n",
    "import sys\n",
    "\n",
    "sys.path.append(\"../\")\n",
    "\n",
    "from common import common_widgets"
   ]
  },
  {
   "cell_type": "markdown",
   "metadata": {},
   "source": [
    "## Loading Data"
   ]
  },
  {
   "cell_type": "code",
   "execution_count": 2,
   "metadata": {},
   "outputs": [],
   "source": [
    "data_file = 'income_data.txt'\n",
    "\n",
    "under50 = 0\n",
    "over50 = 0\n",
    "records = []\n",
    "classes = []\n",
    "\n",
    "with open(data_file, 'r') as file:\n",
    "    for line in file.readlines():\n",
    "        if '?' not in line: # Don't want unknown data points\n",
    "            row = line[:-1].split(\", \") # Exclude the newline at the end\n",
    "            \n",
    "            # Watch out for empty arrays at the end\n",
    "            if row[-1] == \"<=50K\":\n",
    "                records.append(row)\n",
    "                under50 += 1\n",
    "            elif row[-1] == \">50K\":\n",
    "                records.append(row)\n",
    "                over50 += 1\n",
    "\n",
    "data = numpy.array(records)\n",
    "records = data\n",
    "\n",
    "label_encoders = []\n",
    "encoded_data = numpy.empty(data.shape)\n",
    "for i, item in enumerate(data[0]):\n",
    "    # For each feature...\n",
    "    if item.isdigit():\n",
    "        # If this feature is already an integer, just leave it alone\n",
    "        # Dump that entire column into the new encoded array\n",
    "        encoded_data[:, i] = data[:, i]\n",
    "    else:\n",
    "        # This is text data, we should assign a label to it\n",
    "        label_encoders.append(preprocessing.LabelEncoder())\n",
    "        encoded_data[:, i] = label_encoders[-1].fit_transform(data[:, i])\n",
    "\n",
    "# The data points are every feature except the income\n",
    "data = encoded_data[:, :-1].astype(int)\n",
    "\n",
    "# And here's the actual income classification\n",
    "classes = encoded_data[:, -1].astype(int)"
   ]
  },
  {
   "cell_type": "markdown",
   "metadata": {},
   "source": [
    "## Training the Model"
   ]
  },
  {
   "cell_type": "code",
   "execution_count": 3,
   "metadata": {},
   "outputs": [
    {
     "name": "stdout",
     "output_type": "stream",
     "text": [
      "F1 Score: 71.35%\n"
     ]
    }
   ],
   "source": [
    "split = model_selection.train_test_split(data, classes, test_size=0.2, random_state=0)\n",
    "data_train, data_test = split[0], split[1]\n",
    "class_train, class_test = split[2], split[3]\n",
    "    \n",
    "svc = LinearSVC(random_state=0)\n",
    "classifier = OneVsOneClassifier(svc, n_jobs=-1)\n",
    "classifier.fit(data_train, class_train)\n",
    "    \n",
    "# Make some guesses\n",
    "predictions = classifier.predict(data_test)\n",
    "    \n",
    "f1 = model_selection.cross_val_score(classifier, data, classes, scoring=\"f1_weighted\", cv=3)\n",
    "print(\"F1 Score: {:.2f}%\".format(f1.mean() * 100))"
   ]
  },
  {
   "cell_type": "markdown",
   "metadata": {},
   "source": [
    "## Setting Up the Widgets"
   ]
  },
  {
   "cell_type": "code",
   "execution_count": 4,
   "metadata": {},
   "outputs": [],
   "source": [
    "def dropdown(encoder, description):\n",
    "    return widgets.Dropdown(\n",
    "        options={value:index for index, value in enumerate(encoder.classes_)},\n",
    "        description=description\n",
    "    )\n",
    "\n",
    "def intslider(data, description):\n",
    "    min = data.min()\n",
    "    return widgets.IntSlider(\n",
    "        value=min,\n",
    "        min=min,\n",
    "        max=data.max(),\n",
    "        description=description\n",
    "    )\n",
    "\n",
    "age = intslider(data[:, 0], \"age\")\n",
    "workclass = dropdown(label_encoders[0], \"workclass\")\n",
    "fnlwgt = intslider(data[:, 2], \"fnlwgt\")\n",
    "education = dropdown(label_encoders[1], \"education\")\n",
    "education_num = intslider(data[:, 4], \"education-num\")\n",
    "marital_status = dropdown(label_encoders[2], \"marital-status\")\n",
    "occupation = dropdown(label_encoders[3], \"occupation\")\n",
    "relationship = dropdown(label_encoders[4], \"relationship\")\n",
    "race = dropdown(label_encoders[5], \"race\")\n",
    "sex = dropdown(label_encoders[6], \"sex\")\n",
    "capital_gain = intslider(data[:, 10], \"capital-gain\")\n",
    "capital_loss = intslider(data[:, 11], \"capital-loss\")\n",
    "hours_per_week = intslider(data[:, 12], \"hours-per-week\")\n",
    "native_country = dropdown(label_encoders[7], \"native-country\")"
   ]
  },
  {
   "cell_type": "markdown",
   "metadata": {},
   "source": [
    "## Prediction"
   ]
  },
  {
   "cell_type": "code",
   "execution_count": 1,
   "metadata": {},
   "outputs": [
    {
     "ename": "NameError",
     "evalue": "name 'widgets' is not defined",
     "output_type": "error",
     "traceback": [
      "\u001b[0;31m---------------------------------------------------------------------------\u001b[0m",
      "\u001b[0;31mNameError\u001b[0m                                 Traceback (most recent call last)",
      "\u001b[0;32m<ipython-input-1-88d120a45978>\u001b[0m in \u001b[0;36m<module>\u001b[0;34m()\u001b[0m\n\u001b[1;32m     16\u001b[0m     \u001b[0mprint\u001b[0m\u001b[0;34m(\u001b[0m\u001b[0mpredicted_class_label\u001b[0m\u001b[0;34m)\u001b[0m\u001b[0;34m\u001b[0m\u001b[0m\n\u001b[1;32m     17\u001b[0m \u001b[0;34m\u001b[0m\u001b[0m\n\u001b[0;32m---> 18\u001b[0;31m widgets.interactive(\n\u001b[0m\u001b[1;32m     19\u001b[0m     \u001b[0mpredict\u001b[0m\u001b[0;34m,\u001b[0m\u001b[0;34m\u001b[0m\u001b[0m\n\u001b[1;32m     20\u001b[0m     \u001b[0mage\u001b[0m\u001b[0;34m=\u001b[0m\u001b[0mage\u001b[0m\u001b[0;34m,\u001b[0m\u001b[0;34m\u001b[0m\u001b[0m\n",
      "\u001b[0;31mNameError\u001b[0m: name 'widgets' is not defined"
     ]
    }
   ],
   "source": [
    "def predict(age, workclass, fnlwgt, education, education_num, marital_status, occupation, relationship, race, sex, capital_gain, capital_loss, hours_per_week, native_country):\n",
    "    input_data = [age, workclass, fnlwgt, education, education_num, marital_status, occupation, relationship, race, sex, capital_gain, capital_loss, hours_per_week, native_country]\n",
    "    encoded_input = [-1] * len(input_data)\n",
    "    count = 0\n",
    "    for i, feature in enumerate(input_data):\n",
    "        if type(feature) == int:\n",
    "            encoded_input[i] = feature\n",
    "        else:\n",
    "            encoded_input[i] = int(label_encoder[count].transform(input_data[i]))\n",
    "            count += 1\n",
    "    \n",
    "\n",
    "    encoded_input = numpy.array(encoded_input)\n",
    "    predicted_class = classifier.predict([encoded_input])\n",
    "    predicted_class_label = label_encoders[-1].inverse_transform(predicted_class)[0]\n",
    "    print(predicted_class_label)\n",
    "\n",
    "widgets.interactive(\n",
    "    predict,\n",
    "    age=age,\n",
    "    workclass=workclass,\n",
    "    fnlwgt=fnlwgt,\n",
    "    education=education,\n",
    "    education_num=education_num,\n",
    "    marital_status=marital_status,\n",
    "    occupation=occupation,\n",
    "    relationship=relationship,\n",
    "    race=race,\n",
    "    sex=sex,\n",
    "    capital_gain=capital_gain,\n",
    "    capital_loss=capital_loss,\n",
    "    hours_per_week=hours_per_week,\n",
    "    native_country=native_country\n",
    ")"
   ]
  }
 ],
 "metadata": {
  "kernelspec": {
   "display_name": "Python 3",
   "language": "python",
   "name": "python3"
  },
  "language_info": {
   "codemirror_mode": {
    "name": "ipython",
    "version": 3
   },
   "file_extension": ".py",
   "mimetype": "text/x-python",
   "name": "python",
   "nbconvert_exporter": "python",
   "pygments_lexer": "ipython3",
   "version": "3.6.5"
  }
 },
 "nbformat": 4,
 "nbformat_minor": 2
}
