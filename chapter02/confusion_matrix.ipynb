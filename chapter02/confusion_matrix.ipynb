{
 "cells": [
  {
   "cell_type": "markdown",
   "metadata": {},
   "source": [
    "# Confusion Matrix"
   ]
  },
  {
   "cell_type": "code",
   "execution_count": 1,
   "metadata": {},
   "outputs": [],
   "source": [
    "import numpy\n",
    "from matplotlib import pyplot\n",
    "from sklearn.metrics import confusion_matrix, classification_report\n",
    "import scikitplot"
   ]
  },
  {
   "cell_type": "markdown",
   "metadata": {},
   "source": [
    "## Sample Data"
   ]
  },
  {
   "cell_type": "code",
   "execution_count": 3,
   "metadata": {},
   "outputs": [],
   "source": [
    "# Define sample labels\n",
    "truth =   (2, 0, 0, 2, 4, 4, 1, 0, 3, 3, 3)\n",
    "guesses = (2, 1, 0, 2, 4, 3, 1, 0, 1, 3, 3)"
   ]
  },
  {
   "cell_type": "markdown",
   "metadata": {},
   "source": [
    "## The Matrix"
   ]
  },
  {
   "cell_type": "code",
   "execution_count": 13,
   "metadata": {},
   "outputs": [
    {
     "data": {
      "text/plain": [
       "array([[2, 1, 0, 0, 0],\n",
       "       [0, 1, 0, 0, 0],\n",
       "       [0, 0, 2, 0, 0],\n",
       "       [0, 1, 0, 2, 0],\n",
       "       [0, 0, 0, 1, 1]])"
      ]
     },
     "execution_count": 13,
     "metadata": {},
     "output_type": "execute_result"
    }
   ],
   "source": [
    "matrix = confusion_matrix(truth, guesses)\n",
    "matrix"
   ]
  },
  {
   "cell_type": "markdown",
   "metadata": {},
   "source": [
    "## Visualizing It\n",
    "\n",
    "The darker a cell, the more times that class appears in the data set *and* was correctly predicted.  The ideal confusion matrix is a diagonal full of 1's."
   ]
  },
  {
   "cell_type": "code",
   "execution_count": 11,
   "metadata": {},
   "outputs": [
    {
     "data": {
      "image/png": "[encoded data removed]",
      "text/plain": [
       "<matplotlib.figure.Figure at 0x7fa16b5dc1d0>"
      ]
     },
     "metadata": {},
     "output_type": "display_data"
    }
   ],
   "source": [
    "scikitplot.metrics.plot_confusion_matrix(y_pred=guesses, y_true=truth, normalize=True)\n",
    "pyplot.show()"
   ]
  },
  {
   "cell_type": "markdown",
   "metadata": {},
   "source": [
    "## Classification Report"
   ]
  },
  {
   "cell_type": "code",
   "execution_count": 6,
   "metadata": {},
   "outputs": [
    {
     "name": "stdout",
     "output_type": "stream",
     "text": [
      "             precision    recall  f1-score   support\n",
      "\n",
      "    Class-0       1.00      0.67      0.80         3\n",
      "    Class-1       0.33      1.00      0.50         1\n",
      "    Class-2       1.00      1.00      1.00         2\n",
      "    Class-3       0.67      0.67      0.67         3\n",
      "    Class-4       1.00      0.50      0.67         2\n",
      "\n",
      "avg / total       0.85      0.73      0.75        11\n",
      "\n"
     ]
    }
   ],
   "source": [
    "classes = (\"Class-0\", \"Class-1\", \"Class-2\", \"Class-3\", \"Class-4\")\n",
    "print(classification_report(truth, guesses, target_names=classes))"
   ]
  }
 ],
 "metadata": {
  "kernelspec": {
   "display_name": "Python 3",
   "language": "python",
   "name": "python3"
  },
  "language_info": {
   "codemirror_mode": {
    "name": "ipython",
    "version": 3
   },
   "file_extension": ".py",
   "mimetype": "text/x-python",
   "name": "python",
   "nbconvert_exporter": "python",
   "pygments_lexer": "ipython3",
   "version": "3.6.5"
  }
 },
 "nbformat": 4,
 "nbformat_minor": 2
}
