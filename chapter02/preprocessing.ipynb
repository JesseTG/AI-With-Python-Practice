{
 "cells": [
  {
   "cell_type": "markdown",
   "metadata": {},
   "source": [
    "# Preprocessing"
   ]
  },
  {
   "cell_type": "code",
   "execution_count": 8,
   "metadata": {},
   "outputs": [],
   "source": [
    "# Imports and definitions\n",
    "import numpy\n",
    "from numpy import ndarray, array\n",
    "from sklearn import preprocessing, linear_model\n",
    "from matplotlib import pyplot\n",
    "import ipywidgets as widgets\n",
    "from IPython.display import display\n",
    "\n",
    "import sys\n",
    "\n",
    "sys.path.append(\"../\")\n",
    "\n",
    "import common\n",
    "\n",
    "data = array([\n",
    "    [5.1, -2.9, 3.3],\n",
    "    [-1.2, 7.8, -6.1],\n",
    "    [3.9, 0.4, 2.1],\n",
    "    [7.3, -9.9, -4.5]\n",
    "]) # type: ndarray"
   ]
  },
  {
   "cell_type": "markdown",
   "metadata": {},
   "source": [
    "## Binarization"
   ]
  },
  {
   "cell_type": "code",
   "execution_count": 7,
   "metadata": {},
   "outputs": [
    {
     "data": {
      "text/plain": [
       "array([[ 1.,  0.,  1.],\n",
       "       [ 0.,  1.,  0.],\n",
       "       [ 1.,  0.,  0.],\n",
       "       [ 1.,  0.,  0.]])"
      ]
     },
     "execution_count": 7,
     "metadata": {},
     "output_type": "execute_result"
    }
   ],
   "source": [
    "binarizer = preprocessing.Binarizer(2.1)\n",
    "\n",
    "binarizer.transform(data)"
   ]
  },
  {
   "cell_type": "markdown",
   "metadata": {},
   "source": [
    "## Mean Removal"
   ]
  },
  {
   "cell_type": "code",
   "execution_count": 12,
   "metadata": {},
   "outputs": [
    {
     "name": "stdout",
     "output_type": "stream",
     "text": [
      "Unmodified Data:\n",
      "\tMean\t= [ 3.775 -1.15  -1.3  ]\n",
      "\tStddev.\t= [ 3.12039661  6.36651396  4.0620192 ]\n",
      "\n",
      "Mean-Removed Data:\n",
      "\tMean\t= [  1.11022302e-16   0.00000000e+00   2.77555756e-17]\n",
      "\tStddev.\t= [ 1.  1.  1.]\n",
      "\n",
      "Full Data:\n",
      "[[ 0.42462551 -0.2748757   1.13244172]\n",
      " [-1.59434861  1.40579288 -1.18167831]\n",
      " [ 0.04005901  0.24346134  0.83702214]\n",
      " [ 1.12966409 -1.37437851 -0.78778554]]\n"
     ]
    }
   ],
   "source": [
    "mean_removed_data = preprocessing.scale(data)\n",
    "\n",
    "print(\"Unmodified Data:\")\n",
    "print(\"\\tMean\\t=\", data.mean(axis=0))\n",
    "print(\"\\tStddev.\\t=\", data.std(axis=0))\n",
    "print()\n",
    "print(\"Mean-Removed Data:\")\n",
    "print(\"\\tMean\\t=\", mean_removed_data.mean(axis=0))\n",
    "print(\"\\tStddev.\\t=\", mean_removed_data.std(axis=0))\n",
    "print()\n",
    "print(\"Full Data:\")\n",
    "print(mean_removed_data)"
   ]
  },
  {
   "cell_type": "markdown",
   "metadata": {},
   "source": [
    "## Min/Max Scaling"
   ]
  },
  {
   "cell_type": "code",
   "execution_count": 13,
   "metadata": {},
   "outputs": [
    {
     "name": "stdout",
     "output_type": "stream",
     "text": [
      "Unmodified Data:\n",
      "\tMean\t= [ 3.775 -1.15  -1.3  ]\n",
      "\tStddev.\t= [ 3.12039661  6.36651396  4.0620192 ]\n",
      "\n",
      "Scaled Data (0, 1):\n",
      "\tMean:\t= [ 0.58529412  0.49435028  0.5106383 ]\n",
      "\tStddev.\t= [ 0.36710548  0.35969005  0.4321297 ]\n",
      "\n",
      "Full Data:\n",
      "[[ 0.74117647  0.39548023  1.        ]\n",
      " [ 0.          1.          0.        ]\n",
      " [ 0.6         0.5819209   0.87234043]\n",
      " [ 1.          0.          0.17021277]]\n"
     ]
    }
   ],
   "source": [
    "scaler = preprocessing.MinMaxScaler((0, 1))\n",
    "scaled_data = scaler.fit_transform(data)\n",
    "\n",
    "print(\"Unmodified Data:\")\n",
    "print(\"\\tMean\\t=\", data.mean(axis=0))\n",
    "print(\"\\tStddev.\\t=\", data.std(axis=0))\n",
    "print()\n",
    "print(\"Scaled Data (0, 1):\")\n",
    "print(\"\\tMean:\\t=\", scaled_data.mean(0))\n",
    "print(\"\\tStddev.\\t=\", scaled_data.std(0))\n",
    "print()\n",
    "print(\"Full Data:\")\n",
    "print(scaled_data)"
   ]
  },
  {
   "cell_type": "markdown",
   "metadata": {},
   "source": [
    "## Normalized Data\n",
    "\n",
    "$L_p$ space is a function space\n",
    "\n",
    "$L_p(\\mathbf{x}) = ||\\mathbf{x}||_p = \\sqrt[p]{\\sum{|x_i|^p}}$, for $p \\in R$ and $p \\ge 1$\n",
    "\n",
    "For Manhattan distance, $p = 1$, implying $L_1(\\mathbf{x}) = ||\\mathbf{x}||_1 = \\sum{|x_i|}$.  This is the $L_1$ norm.\n",
    "\n",
    "For Euclidean distance, $p = 2$, implying $L_2(\\mathbf{x}) = ||\\mathbf{x}||_2 = \\sqrt{\\sum{|x_i|^2}}$.  This is the $L_2$ norm.\n",
    "\n",
    "For the max norm, $p = \\infty$, implying $L_\\infty(\\mathbf{x}) = ||\\mathbf{x}||_\\infty = \\max(\\{|x_1|, |x_2|, \\dots , |x_n|\\})$.  This is the $L_\\infty$ norm."
   ]
  },
  {
   "cell_type": "code",
   "execution_count": 11,
   "metadata": {},
   "outputs": [
    {
     "name": "stdout",
     "output_type": "stream",
     "text": [
      "Data:\n",
      "[[ 5.1 -2.9  3.3]\n",
      " [-1.2  7.8 -6.1]\n",
      " [ 3.9  0.4  2.1]\n",
      " [ 7.3 -9.9 -4.5]]\n",
      "\n",
      "L1-Normalized Data:\n",
      "[[ 0.45132743 -0.25663717  0.2920354 ]\n",
      " [-0.0794702   0.51655629 -0.40397351]\n",
      " [ 0.609375    0.0625      0.328125  ]\n",
      " [ 0.33640553 -0.4562212  -0.20737327]]\n",
      "\n",
      "L2-Normalized Data:\n",
      "[[ 0.75765788 -0.43082507  0.49024922]\n",
      " [-0.12030718  0.78199664 -0.61156148]\n",
      " [ 0.87690281  0.08993875  0.47217844]\n",
      " [ 0.55734935 -0.75585734 -0.34357152]]\n",
      "\n",
      "Max-Normalized Data:\n",
      "[[ 1.         -0.56862745  0.64705882]\n",
      " [-0.15384615  1.         -0.78205128]\n",
      " [ 1.          0.1025641   0.53846154]\n",
      " [ 1.         -1.35616438 -0.61643836]]\n"
     ]
    }
   ],
   "source": [
    "l1_normalized_data = preprocessing.normalize(data, \"l1\")\n",
    "# Manhattan distance (p = 1)\n",
    "# Better if you want to want to ignore outliers\n",
    "\n",
    "l2_normalized_data = preprocessing.normalize(data, \"l2\")\n",
    "# Euclidean distance (p = 2)\n",
    "# Better if you want to consider outliers\n",
    "\n",
    "max_normalized_data = preprocessing.normalize(data, \"max\")\n",
    "# Max norm (p = infinity)\n",
    "# Lnorm(infinity, data) = max(abs(x) for x in data)\n",
    "\n",
    "print(\"Data:\")\n",
    "print(data)\n",
    "print()\n",
    "print(\"L1-Normalized Data:\")\n",
    "print(l1_normalized_data)\n",
    "print()\n",
    "print(\"L2-Normalized Data:\")\n",
    "print(l2_normalized_data)\n",
    "print()\n",
    "print(\"Max-Normalized Data:\")\n",
    "print(max_normalized_data)"
   ]
  }
 ],
 "metadata": {
  "kernelspec": {
   "display_name": "Python 3",
   "language": "python",
   "name": "python3"
  },
  "language_info": {
   "codemirror_mode": {
    "name": "ipython",
    "version": 3
   },
   "file_extension": ".py",
   "mimetype": "text/x-python",
   "name": "python",
   "nbconvert_exporter": "python",
   "pygments_lexer": "ipython3",
   "version": "3.6.5"
  }
 },
 "nbformat": 4,
 "nbformat_minor": 2
}
