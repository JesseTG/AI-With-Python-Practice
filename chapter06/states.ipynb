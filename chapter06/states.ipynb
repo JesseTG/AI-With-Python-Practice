{
 "cells": [
  {
   "cell_type": "markdown",
   "metadata": {},
   "source": [
    "# Adjacent States in America"
   ]
  },
  {
   "cell_type": "code",
   "execution_count": 3,
   "metadata": {},
   "outputs": [],
   "source": [
    "from kanren import Relation, fact, run, conde, var, eq"
   ]
  },
  {
   "cell_type": "markdown",
   "metadata": {},
   "source": [
    "## Setting Up the Fact Base"
   ]
  },
  {
   "cell_type": "code",
   "execution_count": 5,
   "metadata": {},
   "outputs": [],
   "source": [
    "adjacent = Relation()\n",
    "coastal = Relation()\n",
    "\n",
    "with open(\"coastal_states.txt\", \"r\") as file:\n",
    "    line = file.read()\n",
    "    coastal_states = line.split(\",\")\n",
    "\n",
    "for state in coastal_states:\n",
    "    # For each coastal state...\n",
    "    fact(coastal, state) # Register it as a fact\n",
    "\n",
    "with open(\"adjacent_states.txt\", \"r\") as file:\n",
    "    adjacencies = [line.strip().split(',') for line in file if line and line[0].isalpha()]\n",
    "\n",
    "for l in adjacencies:\n",
    "    # For each adjacency list...\n",
    "    head, tail = l[0], l[1:]\n",
    "    for state in tail:\n",
    "        # For each state that the head of the list is adjacent to...\n",
    "        fact(adjacent, head, state)"
   ]
  },
  {
   "cell_type": "markdown",
   "metadata": {},
   "source": [
    "## Making Queries"
   ]
  },
  {
   "cell_type": "code",
   "execution_count": 11,
   "metadata": {},
   "outputs": [
    {
     "name": "stdout",
     "output_type": "stream",
     "text": [
      "Nevada adjacent to Louisiana            : False\n",
      "States adjacent to Oregon               : ('Nevada', 'California', 'Washington', 'Idaho')\n",
      "Coastal states adjacent to Mississippi  : ('Alabama', 'Louisiana')\n",
      "7 states bordering a coastal state      : ('Delaware', 'Louisiana', 'Connecticut', 'Wisconsin', 'New Jersey', 'New York', 'Tennessee')\n",
      "States adjacent to Arkansas and Kentucky: ('Missouri', 'Tennessee')\n"
     ]
    }
   ],
   "source": [
    "x, y = var(), var()\n",
    "\n",
    "print(\"Nevada adjacent to Louisiana            :\", bool(run(0, x, adjacent(\"Nevada\", \"Louisiana\"))))\n",
    "print(\"States adjacent to Oregon               :\", run(0, x, adjacent(\"Oregon\", x)))\n",
    "print(\"Coastal states adjacent to Mississippi  :\", run(0, x, adjacent(\"Mississippi\", x), coastal(x)))\n",
    "print(\"7 states bordering a coastal state      :\", run(7, x, coastal(y), adjacent(x, y)))\n",
    "print(\"States adjacent to Arkansas and Kentucky:\", run(0, x, adjacent(\"Arkansas\", x), adjacent(\"Kentucky\", x)))"
   ]
  }
 ],
 "metadata": {
  "kernelspec": {
   "display_name": "Python 3",
   "language": "python",
   "name": "python3"
  },
  "language_info": {
   "codemirror_mode": {
    "name": "ipython",
    "version": 3
   },
   "file_extension": ".py",
   "mimetype": "text/x-python",
   "name": "python",
   "nbconvert_exporter": "python",
   "pygments_lexer": "ipython3",
   "version": "3.6.5"
  }
 },
 "nbformat": 4,
 "nbformat_minor": 2
}
