{
 "cells": [
  {
   "cell_type": "markdown",
   "metadata": {},
   "source": [
    "# Validating Primes with Logic Programming"
   ]
  },
  {
   "cell_type": "code",
   "execution_count": 13,
   "metadata": {},
   "outputs": [],
   "source": [
    "import itertools\n",
    "import kanren\n",
    "from kanren import core\n",
    "from sympy.ntheory.generate import prime, isprime"
   ]
  },
  {
   "cell_type": "code",
   "execution_count": 23,
   "metadata": {},
   "outputs": [],
   "source": [
    "def check_prime(n):\n",
    "    if kanren.isvar(n):\n",
    "        # If this is a variable...\n",
    "        return core.condeseq([(kanren.eq, n, p)] for p in map(prime, itertools.count(1)))\n",
    "        # Return all the operations we'd have to try out to be sure\n",
    "    else:\n",
    "        # Otherwise, just check the value\n",
    "        return core.success if isprime(n) else core.fail"
   ]
  },
  {
   "cell_type": "code",
   "execution_count": 16,
   "metadata": {},
   "outputs": [],
   "source": [
    "n = kanren.var('n')"
   ]
  },
  {
   "cell_type": "code",
   "execution_count": 27,
   "metadata": {},
   "outputs": [
    {
     "name": "stdout",
     "output_type": "stream",
     "text": [
      "List of prime numbers in nums:\n",
      "{3, 11, 13, 17, 19, 23, 29}\n",
      "\n",
      "First 7 prime numbers:\n",
      "{2, 3, 5, 7, 11, 13, 17}\n"
     ]
    }
   ],
   "source": [
    "nums = (23, 4, 27, 17, 13, 10, 21, 29, 3, 32, 11, 19)\n",
    "#kanren.run(7, n, check_prime(n))\n",
    "\n",
    "print(\"List of prime numbers in nums:\")\n",
    "print(set(kanren.run(0, n, (kanren.membero, n, nums), (check_prime, n))))\n",
    "# \"For each n in nums, check if n is prime\"\n",
    "\n",
    "print()\n",
    "print(\"First 7 prime numbers:\")\n",
    "print(set(kanren.run(7, n, check_prime(n))))"
   ]
  }
 ],
 "metadata": {
  "kernelspec": {
   "display_name": "Python 3",
   "language": "python",
   "name": "python3"
  },
  "language_info": {
   "codemirror_mode": {
    "name": "ipython",
    "version": 3
   },
   "file_extension": ".py",
   "mimetype": "text/x-python",
   "name": "python",
   "nbconvert_exporter": "python",
   "pygments_lexer": "ipython3",
   "version": "3.6.5"
  }
 },
 "nbformat": 4,
 "nbformat_minor": 2
}
