{
 "cells": [
  {
   "cell_type": "markdown",
   "metadata": {},
   "source": [
    "# Matching Expressions"
   ]
  },
  {
   "cell_type": "code",
   "execution_count": 33,
   "metadata": {},
   "outputs": [],
   "source": [
    "from kanren import run, var, fact, assoccomm"
   ]
  },
  {
   "cell_type": "markdown",
   "metadata": {},
   "source": [
    "## Defining Operations"
   ]
  },
  {
   "cell_type": "code",
   "execution_count": 34,
   "metadata": {},
   "outputs": [],
   "source": [
    "## Declare that addition and multiplication are commutative and associative\n",
    "add = '+'\n",
    "mul = '*'\n",
    "\n",
    "fact(assoccomm.commutative, mul)\n",
    "fact(assoccomm.commutative, add)\n",
    "fact(assoccomm.associative, mul)\n",
    "fact(assoccomm.associative, add)"
   ]
  },
  {
   "cell_type": "markdown",
   "metadata": {},
   "source": [
    "## Defining Variables"
   ]
  },
  {
   "cell_type": "code",
   "execution_count": 35,
   "metadata": {},
   "outputs": [],
   "source": [
    "a, b, c = var('a'), var('b'), var('c')"
   ]
  },
  {
   "cell_type": "markdown",
   "metadata": {},
   "source": [
    "## Defining Expressions\n",
    "\n",
    "The original expression is $3 \\times (-2) + (1 + 2 \\times 3) \\times (-1)$.  The rest are:\n",
    "\n",
    "1. $(1 + 2 \\times a) \\times b + 3 \\times c$\n",
    "2. $c \\times 3 + b \\times (2 \\times a + 1)$\n",
    "3. $(((2 \\times a) \\times b) + b) + 3 \\times c$"
   ]
  },
  {
   "cell_type": "code",
   "execution_count": 36,
   "metadata": {},
   "outputs": [],
   "source": [
    "expression = (add, (mul, 3, -2), (mul, (add, 1, (mul, 2, 3)), -1))\n",
    "e1 = (add, (mul, (add, 1, (mul, 2, a)), b), (mul, 3, c))\n",
    "e2 = (add, (mul, c, 3), (mul, b, (add, (mul, 2, a), 1)))\n",
    "e3 = (add, (add, (mul, (mul, 2, a), b), b), (mul, 3, c))\n",
    "\n",
    "# These look a *lot* like S-expressions"
   ]
  },
  {
   "cell_type": "markdown",
   "metadata": {},
   "source": [
    "## The Results\n",
    "\n",
    "Given those three expressions, what are the values of $a$, $b$, and $c$?  The first two expressions have solutions since they're structurally the same (modulo commutativity and associativity).  The third, while equivalent to the other two, is structured differently and thus can't be solved with simple pattern matching.  You'd need a full expression engine."
   ]
  },
  {
   "cell_type": "code",
   "execution_count": 37,
   "metadata": {},
   "outputs": [
    {
     "name": "stdout",
     "output_type": "stream",
     "text": [
      "((3, -1, -2),)\n",
      "((3, -1, -2),)\n",
      "()\n"
     ]
    }
   ],
   "source": [
    "print(run(0, (a, b, c), assoccomm.eq_assoccomm(e1, expression)))\n",
    "print(run(0, (a, b, c), assoccomm.eq_assoccomm(e2, expression)))\n",
    "print(run(0, (a, b, c), assoccomm.eq_assoccomm(e3, expression)))"
   ]
  }
 ],
 "metadata": {
  "kernelspec": {
   "display_name": "Python 3",
   "language": "python",
   "name": "python3"
  },
  "language_info": {
   "codemirror_mode": {
    "name": "ipython",
    "version": 3
   },
   "file_extension": ".py",
   "mimetype": "text/x-python",
   "name": "python",
   "nbconvert_exporter": "python",
   "pygments_lexer": "ipython3",
   "version": "3.6.5"
  }
 },
 "nbformat": 4,
 "nbformat_minor": 2
}
