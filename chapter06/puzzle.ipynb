{
 "cells": [
  {
   "cell_type": "markdown",
   "metadata": {},
   "source": [
    "# Building a Puzzle Solver"
   ]
  },
  {
   "cell_type": "code",
   "execution_count": 2,
   "metadata": {},
   "outputs": [],
   "source": [
    "from kanren import *\n",
    "from kanren.core import lall"
   ]
  },
  {
   "cell_type": "code",
   "execution_count": 3,
   "metadata": {},
   "outputs": [],
   "source": [
    "people = var(\"people\")\n",
    "rules = lall(\n",
    "    # We have four people\n",
    "    (eq, (var(), var(), var(), var()), people),\n",
    "    \n",
    "    # Steve has a blue car\n",
    "    (membero, (\"Steve\", var(), \"blue\", var()), people),\n",
    "    \n",
    "    # The person who lives in Canada has a cat\n",
    "    (membero, (var(), \"cat\", var(), \"Canada\"), people),\n",
    "    \n",
    "    # Matthew lives in America\n",
    "    (membero, (\"Matthew\", var(), var(), \"USA\"), people),\n",
    "    \n",
    "    # The person with a black car lives in Australia\n",
    "    (membero, (var(), var(), \"black\", \"Australia\"), people),\n",
    "    \n",
    "    # Jack has a cat\n",
    "    (membero, (\"Jack\", \"cat\", var(), var()), people),\n",
    "    \n",
    "    # Alfred lives in Australia\n",
    "    (membero, (\"Alfred\", var(), var(), \"Australia\"), people),\n",
    "    \n",
    "    # The person with a dog lives in France\n",
    "    (membero, (var(), \"dog\", var(), \"France\"), people),\n",
    "    \n",
    "    # Someone has a rabbit.  Who?\n",
    "    (membero, (var(), \"rabbit\", var(), var()), people)\n",
    ")"
   ]
  },
  {
   "cell_type": "code",
   "execution_count": 8,
   "metadata": {},
   "outputs": [
    {
     "name": "stdout",
     "output_type": "stream",
     "text": [
      "Matthew has a rabbit\n"
     ]
    }
   ],
   "source": [
    "# Solve it!\n",
    "solutions = run(0, people, rules)\n",
    "\n",
    "solution = [s for s in solutions[0] if 'rabbit' in s][0][0]\n",
    "\n",
    "print(solution, \"has a rabbit\")\n",
    "\n",
    "# NOTE: The puzzle is incomplete.  There's not enough information to\n",
    "# know fully what pets or what cars everyone has, but it's enough to\n",
    "# know that Matthew has a rabbit."
   ]
  }
 ],
 "metadata": {
  "kernelspec": {
   "display_name": "Python 3",
   "language": "python",
   "name": "python3"
  },
  "language_info": {
   "codemirror_mode": {
    "name": "ipython",
    "version": 3
   },
   "file_extension": ".py",
   "mimetype": "text/x-python",
   "name": "python",
   "nbconvert_exporter": "python",
   "pygments_lexer": "ipython3",
   "version": "3.6.5"
  }
 },
 "nbformat": 4,
 "nbformat_minor": 2
}
