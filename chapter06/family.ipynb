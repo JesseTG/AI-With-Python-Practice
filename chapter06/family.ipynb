{
 "cells": [
  {
   "cell_type": "markdown",
   "metadata": {},
   "source": [
    "# Parsing Family Trees with Logic Programming"
   ]
  },
  {
   "cell_type": "code",
   "execution_count": 7,
   "metadata": {},
   "outputs": [],
   "source": [
    "import json\n",
    "from kanren import Relation, facts, run, conde, var, eq"
   ]
  },
  {
   "cell_type": "markdown",
   "metadata": {},
   "source": [
    "## Queries\n",
    "\n",
    "Note:\n",
    "\n",
    "`conde((A, B, C), (D, E))` means `(A and B and C) or (D and E)`\n",
    "\n",
    "Equivalent to the `(A, B, C); (D, E)` syntax in Prolog."
   ]
  },
  {
   "cell_type": "code",
   "execution_count": 39,
   "metadata": {},
   "outputs": [],
   "source": [
    "mother = Relation()\n",
    "father = Relation()\n",
    "\n",
    "def parent(x, y):\n",
    "    # Is x the parent of y?\n",
    "    return conde([father(x, y)], [mother(x, y)])\n",
    "    # Is x the mother or father of y?\n",
    "\n",
    "def grandparent(x, y):\n",
    "    # Is x a grandparent of y?\n",
    "    p = var()\n",
    "    return conde((parent(x, p), parent(p, y)))\n",
    "    # Is there a person p whose parent is x and who is a parent of y?\n",
    "\n",
    "def sibling(x, y):\n",
    "    # Is x a sibling of y?\n",
    "    p = var()\n",
    "    return conde((parent(p, x), parent(p, y)))\n",
    "    # Is there a person p who is a parent of x and a parent of y?\n",
    "\n",
    "def uncle(x, y):\n",
    "    # Is x an uncle of y?\n",
    "    p = var()\n",
    "    return conde((father(p, x), grandparent(p, y)))\n",
    "    # Is there a person p who is the father of x and the grandparent of y?"
   ]
  },
  {
   "cell_type": "markdown",
   "metadata": {},
   "source": [
    "## Input Data and the Fact Base\n",
    "\n",
    "`relationships.json` is a data file containing only parental relationships.  From this, we'll build a family tree."
   ]
  },
  {
   "cell_type": "code",
   "execution_count": 40,
   "metadata": {},
   "outputs": [],
   "source": [
    "with open(\"relationships.json\", \"r\") as file:\n",
    "    data = json.load(file)\n",
    "\n",
    "for i in data['father']:\n",
    "    # For each paternal relationship...\n",
    "    dad = tuple(i)[0]\n",
    "    kid = i[dad]\n",
    "    \n",
    "    facts(father, (dad, kid))\n",
    "\n",
    "for i in data['mother']:\n",
    "    # For each maternal relationship...\n",
    "    mom = tuple(i)[0]\n",
    "    kid = i[mom]\n",
    "    \n",
    "    facts(mother, (mom, kid))"
   ]
  },
  {
   "cell_type": "markdown",
   "metadata": {},
   "source": [
    "## Making Queries"
   ]
  },
  {
   "cell_type": "code",
   "execution_count": 41,
   "metadata": {},
   "outputs": [
    {
     "name": "stdout",
     "output_type": "stream",
     "text": [
      "John's Children      :\t ('David', 'Adam', 'William')\n",
      "William's Mother     :\t ('Megan',)\n",
      "Adam's Parents       :\t ('John', 'Megan')\n",
      "Wayne's Grandparents :\t ('Megan', 'John')\n",
      "Megan's Grandchildren:\t ('Julie', 'Sophia', 'Chris', 'Tiffany', 'Stephanie', 'Neil', 'Wayne', 'Peter')\n",
      "David's Siblings     :\t ('Adam', 'David', 'William')\n",
      "Tiffany's Uncles     :\t ('Adam', 'William', 'David')\n",
      "Spouses              :\t (('Emma', 'William'), ('Olivia', 'David'), ('Megan', 'John'), ('Lily', 'Adam'))\n"
     ]
    }
   ],
   "source": [
    "x = var()\n",
    "m, d = var('mom'), var('dad')\n",
    "\n",
    "# 0 means \"all solutions\"\n",
    "# (m, d) means \"result is a pair\"\n",
    "\n",
    "print(\"John's Children      :\\t\", run(0, x, father(\"John\", x)))\n",
    "print(\"William's Mother     :\\t\", run(0, x, mother(x, \"William\")))\n",
    "print(\"Adam's Parents       :\\t\", run(0, x, parent(x, \"Adam\")))\n",
    "print(\"Wayne's Grandparents :\\t\", run(0, x, grandparent(x, \"Wayne\")))\n",
    "print(\"Megan's Grandchildren:\\t\", run(0, x, grandparent(\"Megan\", x)))\n",
    "print(\"David's Siblings     :\\t\", run(0, x, sibling(\"David\", x)))\n",
    "print(\"Tiffany's Uncles     :\\t\", run(0, x, uncle(x, \"Tiffany\")))\n",
    "print(\"Spouses              :\\t\", run(0, (m, d), (father, d, c), (mother, m, c)))"
   ]
  }
 ],
 "metadata": {
  "kernelspec": {
   "display_name": "Python 3",
   "language": "python",
   "name": "python3"
  },
  "language_info": {
   "codemirror_mode": {
    "name": "ipython",
    "version": 3
   },
   "file_extension": ".py",
   "mimetype": "text/x-python",
   "name": "python",
   "nbconvert_exporter": "python",
   "pygments_lexer": "ipython3",
   "version": "3.6.5"
  }
 },
 "nbformat": 4,
 "nbformat_minor": 2
}
