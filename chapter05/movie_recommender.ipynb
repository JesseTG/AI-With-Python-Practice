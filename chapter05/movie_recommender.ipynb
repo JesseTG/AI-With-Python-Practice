{
 "cells": [
  {
   "cell_type": "markdown",
   "metadata": {},
   "source": [
    "# Movie Recommendation"
   ]
  },
  {
   "cell_type": "code",
   "execution_count": 6,
   "metadata": {},
   "outputs": [],
   "source": [
    "import json\n",
    "import sys\n",
    "import numpy\n",
    "import ipywidgets as widgets\n",
    "\n",
    "sys.path.append(\"../\")\n",
    "\n",
    "from common.compute_scores import pearson\n",
    "from common.collaborative_filtering import find_similar_users"
   ]
  },
  {
   "cell_type": "markdown",
   "metadata": {},
   "source": [
    "## Input Data"
   ]
  },
  {
   "cell_type": "code",
   "execution_count": 7,
   "metadata": {},
   "outputs": [],
   "source": [
    "with open(\"ratings.json\", \"r\") as file:\n",
    "    dataset = json.load(file)\n",
    "\n",
    "users = tuple(sorted(dataset.keys()))"
   ]
  },
  {
   "cell_type": "markdown",
   "metadata": {},
   "source": [
    "## Making Recommendations"
   ]
  },
  {
   "cell_type": "code",
   "execution_count": 12,
   "metadata": {},
   "outputs": [],
   "source": [
    "def get_recommendations(data, user):\n",
    "    # Will not recommend movies the user has already rated\n",
    "    overall_scores = {}\n",
    "    similarity_scores = {}\n",
    "    \n",
    "    for u in (x for x in data if x != user):\n",
    "        # For each other user...\n",
    "        similarity = pearson(data, user, u)\n",
    "        \n",
    "        if similarity <= 0:\n",
    "            # If these users aren't similar in some way...\n",
    "            continue\n",
    "        \n",
    "        candidates = [x for x in data[u] if x not in data[user] or data[user][x] == 0]\n",
    "        # List of movies rated by the current user, but not the input user\n",
    "        # I.e. we're not sure if the input user will like this one yet\n",
    "        \n",
    "        for movie in candidates:\n",
    "            overall_scores.update({ movie: data[u][movie] * similarity })\n",
    "            similarity_scores.update({ movie: similarity })\n",
    "    \n",
    "    if not overall_scores:\n",
    "        # If we couldn't find any movies this user might like...\n",
    "        return []\n",
    "\n",
    "    movie_scores = numpy.array([[ score / similarity_scores[movie], movie] for movie, score in overall_scores.items()])\n",
    "    movie_scores = movie_scores[numpy.argsort(movie_scores[:, 0])[::-1]]\n",
    "    recommendations = [movie for _, movie in movie_scores]\n",
    "    \n",
    "    return recommendations\n"
   ]
  },
  {
   "cell_type": "markdown",
   "metadata": {},
   "source": [
    "## Displaying Results"
   ]
  },
  {
   "cell_type": "code",
   "execution_count": 11,
   "metadata": {},
   "outputs": [
    {
     "data": {
      "application/vnd.jupyter.widget-view+json": {
       "model_id": "7fb1fdc710c5445aaa14fffd30bf8109",
       "version_major": 2,
       "version_minor": 0
      },
      "text/plain": [
       "interactive(children=(Dropdown(description='User', options=('Adam Cohen', 'Bill Duffy', 'Brenda Peterson', 'Ch…"
      ]
     },
     "metadata": {},
     "output_type": "display_data"
    }
   ],
   "source": [
    "def recommend(user):\n",
    "    recommendations = get_recommendations(dataset, user)\n",
    "    \n",
    "    print(\"Movie Recommendations for {0}:\".format(user))\n",
    "    \n",
    "    if recommendations:\n",
    "        for movie in recommendations:\n",
    "            print(\"\\t- {0}\".format(movie))\n",
    "    else:\n",
    "        print(\"\\t- None Found\")\n",
    "\n",
    "users = tuple(sorted(dataset.keys()))\n",
    "\n",
    "user = widgets.Dropdown(options=users, description=\"User\")\n",
    "\n",
    "widgets.interactive(\n",
    "    recommend,\n",
    "    user=user\n",
    ")"
   ]
  }
 ],
 "metadata": {
  "kernelspec": {
   "display_name": "Python 3",
   "language": "python",
   "name": "python3"
  },
  "language_info": {
   "codemirror_mode": {
    "name": "ipython",
    "version": 3
   },
   "file_extension": ".py",
   "mimetype": "text/x-python",
   "name": "python",
   "nbconvert_exporter": "python",
   "pygments_lexer": "ipython3",
   "version": "3.6.5"
  }
 },
 "nbformat": 4,
 "nbformat_minor": 2
}
