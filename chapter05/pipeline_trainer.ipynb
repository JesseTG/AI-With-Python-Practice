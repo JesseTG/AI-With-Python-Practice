{
 "cells": [
  {
   "cell_type": "markdown",
   "metadata": {},
   "source": [
    "# Training Pipelines\n",
    "\n",
    "Models can be concatenated.  Intermediate steps transform the data (with the `transform` method), the last step estimates it (regresses, classifies, etc.). "
   ]
  },
  {
   "cell_type": "code",
   "execution_count": 2,
   "metadata": {},
   "outputs": [],
   "source": [
    "from sklearn.datasets import samples_generator\n",
    "from sklearn.feature_selection import SelectKBest, f_regression\n",
    "from sklearn.pipeline import Pipeline\n",
    "from sklearn.ensemble import ExtraTreesClassifier"
   ]
  },
  {
   "cell_type": "markdown",
   "metadata": {},
   "source": [
    "## Generating Data"
   ]
  },
  {
   "cell_type": "code",
   "execution_count": 6,
   "metadata": {},
   "outputs": [],
   "source": [
    "X, Y = samples_generator.make_classification(n_samples=150, n_features=25, n_classes=3, n_informative=6, n_redundant=0, random_state=7)"
   ]
  },
  {
   "cell_type": "markdown",
   "metadata": {},
   "source": [
    "## Building the Pipeline"
   ]
  },
  {
   "cell_type": "code",
   "execution_count": 22,
   "metadata": {},
   "outputs": [],
   "source": [
    "k_best = SelectKBest(f_regression, k=9)\n",
    "# Select nine of the most useful features in the data set\n",
    "\n",
    "classifier = ExtraTreesClassifier(n_estimators=60, max_depth=4, n_jobs=-1)\n",
    "# Classify the data set using these features\n",
    "\n",
    "pipeline = Pipeline([(\"selector\", k_best), (\"erf\", classifier)])\n",
    "# Individual parameters can be tuned, too.  Use pipeline.blockname__param\n",
    "# You can cache intermediate transforms, too\n",
    "\n",
    "pipeline.fit(X, Y)\n",
    "\n",
    "features = pipeline.named_steps[\"selector\"].get_support(indices=True)\n",
    "# The nine features selected"
   ]
  },
  {
   "cell_type": "markdown",
   "metadata": {},
   "source": [
    "## Results"
   ]
  },
  {
   "cell_type": "code",
   "execution_count": 23,
   "metadata": {},
   "outputs": [
    {
     "name": "stdout",
     "output_type": "stream",
     "text": [
      "Score: 0.900\n",
      "Selected Features: [ 4  7  8 12 14 17 18 22 23]\n",
      "Predicted Output:\n",
      "[1 2 2 0 2 0 2 1 0 1 1 2 1 0 2 2 1 0 0 1 0 2 1 1 2 2 0 0 1 2 0 2 1 0 2 2 1\n",
      " 1 2 2 2 0 1 2 2 1 2 2 1 0 1 2 2 2 2 0 2 2 0 2 2 0 1 0 2 1 1 1 1 2 1 1 0 2\n",
      " 0 0 1 2 2 0 0 2 2 2 2 0 0 0 2 2 2 1 2 0 2 0 2 2 0 0 1 1 1 1 2 2 2 2 0 1 1\n",
      " 0 2 1 0 0 1 1 1 1 0 0 0 1 2 0 0 0 2 1 2 0 0 1 0 1 1 0 1 1 1 1 2 2 0 1 2 0\n",
      " 2 2]\n"
     ]
    }
   ],
   "source": [
    "output = pipeline.predict(X) # Classify each point\n",
    "\n",
    "print(\"Score: {0:.3f}\".format(pipeline.score(X, Y)))\n",
    "print(\"Selected Features: {0}\".format(features))\n",
    "print(\"Predicted Output:\\n{0}\".format(output))"
   ]
  }
 ],
 "metadata": {
  "kernelspec": {
   "display_name": "Python 3",
   "language": "python",
   "name": "python3"
  },
  "language_info": {
   "codemirror_mode": {
    "name": "ipython",
    "version": 3
   },
   "file_extension": ".py",
   "mimetype": "text/x-python",
   "name": "python",
   "nbconvert_exporter": "python",
   "pygments_lexer": "ipython3",
   "version": "3.6.5"
  }
 },
 "nbformat": 4,
 "nbformat_minor": 2
}
