{
 "cells": [
  {
   "cell_type": "markdown",
   "metadata": {},
   "source": [
    "# Nearest Neighbors\n",
    "\n",
    "Recommendation systems fundamentally use some kind of nearest-neighbor algorithm.  The nearest neighboring data points represent items you'd most likely be interested in."
   ]
  },
  {
   "cell_type": "code",
   "execution_count": 22,
   "metadata": {},
   "outputs": [],
   "source": [
    "import numpy\n",
    "from matplotlib import pyplot\n",
    "from sklearn.neighbors import NearestNeighbors\n",
    "import ipywidgets as widgets"
   ]
  },
  {
   "cell_type": "markdown",
   "metadata": {},
   "source": [
    "## Input Data"
   ]
  },
  {
   "cell_type": "code",
   "execution_count": 3,
   "metadata": {},
   "outputs": [],
   "source": [
    "X = numpy.array([[2.1, 1.3], [1.3, 3.2], [2.9, 2.5], [2.7, 5.4], [3.8, 0.9], [7.3, 2.1], [4.2, 6.5], [3.8, 3.7], [2.5, 4.1], [3.4, 1.9], [5.7, 3.5], [6.1, 4.3], [5.1, 2.2], [6.2, 1.1]])"
   ]
  },
  {
   "cell_type": "markdown",
   "metadata": {},
   "source": [
    "## Visualizing Input Data"
   ]
  },
  {
   "cell_type": "code",
   "execution_count": 5,
   "metadata": {},
   "outputs": [
    {
     "data": {
      "image/png": "[encoded data removed]",
      "text/plain": [
       "<matplotlib.figure.Figure at 0x7f72b309a7b8>"
      ]
     },
     "metadata": {},
     "output_type": "display_data"
    }
   ],
   "source": [
    "pyplot.figure()\n",
    "pyplot.title(\"Input Data\")\n",
    "pyplot.scatter(X[:, 0], X[:, 1], marker='o', s=75, color='black')\n",
    "pyplot.show()"
   ]
  },
  {
   "cell_type": "markdown",
   "metadata": {},
   "source": [
    "## Building the Model"
   ]
  },
  {
   "cell_type": "code",
   "execution_count": 52,
   "metadata": {},
   "outputs": [
    {
     "data": {
      "text/plain": [
       "NearestNeighbors(algorithm='ball_tree', leaf_size=30, metric='minkowski',\n",
       "         metric_params=None, n_jobs=1, n_neighbors=5, p=2, radius=1.0)"
      ]
     },
     "execution_count": 52,
     "metadata": {},
     "output_type": "execute_result"
    }
   ],
   "source": [
    "knn = NearestNeighbors(n_neighbors=5, algorithm='ball_tree')\n",
    "knn.fit(X)"
   ]
  },
  {
   "cell_type": "markdown",
   "metadata": {},
   "source": [
    "## Determining the Neighbors"
   ]
  },
  {
   "cell_type": "code",
   "execution_count": 53,
   "metadata": {},
   "outputs": [
    {
     "data": {
      "application/vnd.jupyter.widget-view+json": {
       "model_id": "5a7ddad546ca4aa08f294b101e80b08c",
       "version_major": 2,
       "version_minor": 0
      },
      "text/plain": [
       "interactive(children=(FloatSlider(value=4.3, continuous_update=False, description='X', max=8.0, step=0.5), Flo…"
      ]
     },
     "metadata": {},
     "output_type": "display_data"
    }
   ],
   "source": [
    "def neighbors(testx=4.3, testy=2.7):\n",
    "    test = [testx, testy]\n",
    "    distances, indices = knn.kneighbors([test])\n",
    "    neighbors = X[indices][0][:]\n",
    "        \n",
    "    pyplot.figure()\n",
    "    pyplot.title(\"Nearest Neighbors\")\n",
    "    pyplot.scatter(X[:, 0], X[:, 1], marker='o', s=75, color='k')\n",
    "    pyplot.scatter(neighbors[:, 0], neighbors[:, 1], marker='o', s=250, color='red', facecolors='none')\n",
    "    pyplot.scatter(test[0], test[1], marker='x', s=75, color='k')\n",
    "    pyplot.show()\n",
    "\n",
    "    print(\"K Nearest Neighbors:\")\n",
    "    for rank, index in enumerate(indices[0], start=1):\n",
    "        print(\"\\t{0} ==> {1}\".format(rank, X[index]))\n",
    "\n",
    "    \n",
    "testx = widgets.FloatSlider(value=4.3, min=0, max=8, step=0.5, description=\"X\", continuous_update=False)\n",
    "testy = widgets.FloatSlider(value=2.7, min=0, max=8, step=0.5, description=\"Y\", continuous_update=False)\n",
    "\n",
    "widgets.interactive(\n",
    "    neighbors,\n",
    "    testx=testx,\n",
    "    testy=testy\n",
    ")"
   ]
  }
 ],
 "metadata": {
  "kernelspec": {
   "display_name": "Python 3",
   "language": "python",
   "name": "python3"
  },
  "language_info": {
   "codemirror_mode": {
    "name": "ipython",
    "version": 3
   },
   "file_extension": ".py",
   "mimetype": "text/x-python",
   "name": "python",
   "nbconvert_exporter": "python",
   "pygments_lexer": "ipython3",
   "version": "3.6.5"
  }
 },
 "nbformat": 4,
 "nbformat_minor": 2
}
