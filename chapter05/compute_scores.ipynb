{
 "cells": [
  {
   "cell_type": "markdown",
   "metadata": {},
   "source": [
    "# Similarity Scores\n",
    "\n",
    "We can pick similar data points with K-Nearest Neighbors...but how do we decide what \"similar\" means?  The two most popular scores are Euclidean and Pearson scores.\n",
    "\n",
    "- Euclidean scores use the Euclidean distance between two points.  Can be unbounded.\n",
    "  - Uses the inverse of Euclidean distance, hence the Euclidean score is inversely proportional to the Euclidean distance.\n",
    "- Pearson scores use the covariance and standard deviation between two points, and can be from -1 (very dissimilar) to 1 (very similar).  Can also be 0 (no relation)"
   ]
  },
  {
   "cell_type": "markdown",
   "metadata": {},
   "source": [
    "## Imports"
   ]
  },
  {
   "cell_type": "code",
   "execution_count": 43,
   "metadata": {},
   "outputs": [],
   "source": [
    "import numpy\n",
    "import json\n",
    "import sys\n",
    "import ipywidgets as widgets\n",
    "\n",
    "sys.path.append(\"../\")\n",
    "\n",
    "from common.compute_scores import euclidean, pearson"
   ]
  },
  {
   "cell_type": "markdown",
   "metadata": {},
   "source": [
    "## Data Set and Widgets"
   ]
  },
  {
   "cell_type": "code",
   "execution_count": 44,
   "metadata": {},
   "outputs": [],
   "source": [
    "with open(\"ratings.json\", 'r') as file:\n",
    "    dataset = json.load(file)\n",
    "\n",
    "users = tuple(sorted(dataset.keys()))\n",
    "\n",
    "user1 = widgets.Dropdown(options=users, description=\"User #1\")\n",
    "user2 = widgets.Dropdown(options=users, description=\"User #2\")"
   ]
  },
  {
   "cell_type": "markdown",
   "metadata": {},
   "source": [
    "## Computing Similarity"
   ]
  },
  {
   "cell_type": "code",
   "execution_count": 50,
   "metadata": {},
   "outputs": [
    {
     "data": {
      "application/vnd.jupyter.widget-view+json": {
       "model_id": "ff9ea767b1cd4ea1a3065b3a5fe307eb",
       "version_major": 2,
       "version_minor": 0
      },
      "text/plain": [
       "interactive(children=(Dropdown(description='User #1', index=6, options=('Adam Cohen', 'Bill Duffy', 'Brenda Pe…"
      ]
     },
     "metadata": {},
     "output_type": "display_data"
    }
   ],
   "source": [
    "def similarity(user1, user2):\n",
    "    euclidean_score = euclidean(dataset, user1, user2)\n",
    "    pearson_score = pearson(dataset, user1, user2)\n",
    "    \n",
    "    print(\"Movie Taste: {0} vs. {1}\".format(user1, user2))\n",
    "    print(\"{0}'s Movies:\\t{1}\".format(user1, tuple(sorted(dataset[user1]))))\n",
    "    print(\"{0}'s Movies:\\t{1}\".format(user2, tuple(sorted(dataset[user2]))))\n",
    "    print()\n",
    "    print(\"Euclidean Similarity:\\t{0:.4f}\".format(euclidean_score))\n",
    "    print(\"Pearson Similarity:\\t{0:.4f}\".format(pearson_score))\n",
    "\n",
    "widgets.interactive(\n",
    "    similarity,\n",
    "    user1=user1,\n",
    "    user2=user2\n",
    ")"
   ]
  }
 ],
 "metadata": {
  "kernelspec": {
   "display_name": "Python 3",
   "language": "python",
   "name": "python3"
  },
  "language_info": {
   "codemirror_mode": {
    "name": "ipython",
    "version": 3
   },
   "file_extension": ".py",
   "mimetype": "text/x-python",
   "name": "python",
   "nbconvert_exporter": "python",
   "pygments_lexer": "ipython3",
   "version": "3.6.5"
  }
 },
 "nbformat": 4,
 "nbformat_minor": 2
}
