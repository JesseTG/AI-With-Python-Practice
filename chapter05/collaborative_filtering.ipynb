{
 "cells": [
  {
   "cell_type": "markdown",
   "metadata": {},
   "source": [
    "# Finding Similar Users with Collaborative Filtering\n",
    "\n",
    "**Collaborative filtering** is the process of finding patterns among data points to make a decision about a new object.  We can use it to find similar users or movies, and therefore make recommendations.\n",
    "\n",
    "The name means that we are **collaborating** the data we have to **filter** users.\n",
    "\n",
    "Our assumption: If two people have similar ratings for a set of movies, they'd probably like a new movie about the same.\n",
    "\n",
    "Collaborative filtering is useful when we have a large dataset.  It's simple: Compute the similarity scores for a whole bunch of data points and return the top $N$."
   ]
  },
  {
   "cell_type": "code",
   "execution_count": 1,
   "metadata": {},
   "outputs": [],
   "source": [
    "import sys\n",
    "import numpy\n",
    "import json\n",
    "import ipywidgets as widgets\n",
    "\n",
    "sys.path.append(\"../\")\n",
    "\n",
    "from common.compute_scores import euclidean, pearson\n",
    "from common.collaborative_filtering import find_similar_users"
   ]
  },
  {
   "cell_type": "markdown",
   "metadata": {},
   "source": [
    "## Loading the Data"
   ]
  },
  {
   "cell_type": "code",
   "execution_count": 2,
   "metadata": {},
   "outputs": [],
   "source": [
    "with open(\"ratings.json\", \"r\") as file:\n",
    "    dataset = json.load(file)"
   ]
  },
  {
   "cell_type": "markdown",
   "metadata": {},
   "source": [
    "## Displaying Results"
   ]
  },
  {
   "cell_type": "code",
   "execution_count": 3,
   "metadata": {},
   "outputs": [
    {
     "data": {
      "application/vnd.jupyter.widget-view+json": {
       "model_id": "04c188ecc06346319f68a88d6846fb86",
       "version_major": 2,
       "version_minor": 0
      },
      "text/plain": [
       "interactive(children=(Dropdown(description='User', options=('Adam Cohen', 'Bill Duffy', 'Brenda Peterson', 'Ch…"
      ]
     },
     "metadata": {},
     "output_type": "display_data"
    }
   ],
   "source": [
    "def find_similar(user, num_users):\n",
    "    similar = find_similar_users(dataset, user, num_users)\n",
    "    \n",
    "    print(\"Users Similar to {0}:\".format(user))\n",
    "    \n",
    "    for name, score in similar:\n",
    "        print(\"\\t- {0}\\t({1:.4f})\".format(name, float(score)))\n",
    "\n",
    "users = tuple(sorted(dataset.keys()))\n",
    "\n",
    "user = widgets.Dropdown(options=users, description=\"User\")\n",
    "num_users = widgets.IntSlider(value=3, min=1, max=len(users) - 1, description=\"# Similar\")\n",
    "\n",
    "widgets.interactive(\n",
    "    find_similar,\n",
    "    user=user,\n",
    "    num_users=num_users\n",
    ")"
   ]
  }
 ],
 "metadata": {
  "kernelspec": {
   "display_name": "Python 3",
   "language": "python",
   "name": "python3"
  },
  "language_info": {
   "codemirror_mode": {
    "name": "ipython",
    "version": 3
   },
   "file_extension": ".py",
   "mimetype": "text/x-python",
   "name": "python",
   "nbconvert_exporter": "python",
   "pygments_lexer": "ipython3",
   "version": "3.6.5"
  }
 },
 "nbformat": 4,
 "nbformat_minor": 2
}
