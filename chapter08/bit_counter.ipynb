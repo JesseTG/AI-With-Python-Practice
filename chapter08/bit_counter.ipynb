{
 "cells": [
  {
   "cell_type": "markdown",
   "metadata": {},
   "source": [
    "# The One Max Problem\n",
    "\n",
    "**Genetic Algorithms** involve three main operators:\n",
    "\n",
    "- **Mutation**: Change a candidate slightly\n",
    "- **Crossover**: Combine two candidates\n",
    "- **Selection**: Kill a candidate or let it live based on a fitness function\n",
    "\n",
    "Repeat over many generations"
   ]
  },
  {
   "cell_type": "code",
   "execution_count": 30,
   "metadata": {},
   "outputs": [],
   "source": [
    "import random\n",
    "from deap import base, creator, tools\n",
    "import ipywidgets as widgets\n"
   ]
  },
  {
   "cell_type": "code",
   "execution_count": 31,
   "metadata": {},
   "outputs": [],
   "source": [
    "# Goal: Generate a 75-bit pattern with 45 ones\n",
    "\n",
    "def create_toolbox(num_bits, indpb, tournsize, target_sum):\n",
    "    def evaluate(individual):\n",
    "        # Specifically, maximize this function\n",
    "        return len(individual) - abs(sum(individual) - target_sum)\n",
    "    \n",
    "    creator.create(\"FitnessMax\", base.Fitness, weights=(1.0,))\n",
    "    creator.create(\"Individual\", list, fitness=creator.FitnessMax)\n",
    "    \n",
    "    toolbox = base.Toolbox()\n",
    "    toolbox.register(\"attr_bool\", random.randint, 0, 1)\n",
    "    toolbox.register(\"map\", futures.map)\n",
    "\n",
    "    # tools.initRepeat fills a container with a function called n times\n",
    "    toolbox.register(\"individual\", tools.initRepeat, creator.Individual, toolbox.attr_bool, num_bits)\n",
    "\n",
    "    # Population is a list of individuals\n",
    "    toolbox.register(\"population\", tools.initRepeat, list, toolbox.individual)\n",
    "\n",
    "    # The evaluation operator\n",
    "    toolbox.register(\"evaluate\", evaluate)\n",
    "\n",
    "    # The crossover operator\n",
    "    toolbox.register(\"mate\", tools.cxTwoPoint)\n",
    "\n",
    "    # The mutation operator\n",
    "    toolbox.register(\"mutate\", tools.mutFlipBit, indpb=indpb)\n",
    "        \n",
    "    # The selection operator\n",
    "    toolbox.register(\"select\", tools.selTournament, tournsize=tournsize)\n",
    "        \n",
    "    return toolbox   "
   ]
  },
  {
   "cell_type": "code",
   "execution_count": 32,
   "metadata": {
    "scrolled": false
   },
   "outputs": [
    {
     "data": {
      "application/vnd.jupyter.widget-view+json": {
       "model_id": "474804f54b214067a56c0a7e28c4f3a8",
       "version_major": 2,
       "version_minor": 0
      },
      "text/plain": [
       "interactive(children=(IntSlider(value=75, continuous_update=False, description='num_bits', max=512, min=8), Fl…"
      ]
     },
     "metadata": {},
     "output_type": "display_data"
    }
   ],
   "source": [
    "def evolve(num_bits=75, indpb=0.05, tournsize=3, target_sum=45, n=500, prob_cross=0.5, prob_mut=0.2, num_generations=60):\n",
    "\n",
    "    toolbox = create_toolbox(num_bits, indpb, tournsize, target_sum)\n",
    "    random.seed(7)\n",
    "    \n",
    "    population = toolbox.population(n=n)\n",
    "    \n",
    "    print(\"Starting the Evolution Process\")\n",
    "    fitnesses = list(map(toolbox.evaluate, population))\n",
    "\n",
    "    for ind, fit in zip(population, fitnesses):\n",
    "        # For each individual in the population...\n",
    "        ind.fitness.values = (fit,)\n",
    "    \n",
    "    print(\"Evaluated {0} individuals\".format(len(population)))\n",
    "    print()\n",
    "    \n",
    "    for g in range(num_generations):\n",
    "        print(\"Generation #{0} =============\".format(g))\n",
    "        offspring = toolbox.select(population, len(population))\n",
    "        offspring = list(map(toolbox.clone, offspring))\n",
    "        \n",
    "        for child1, child2 in zip(offspring[::2], offspring[1::2]):\n",
    "            # Iterate over the offspring in pairs\n",
    "            if random.random() < prob_cross:\n",
    "                toolbox.mate(child1, child2)\n",
    "                \n",
    "                del child1.fitness.values\n",
    "                del child2.fitness.values\n",
    "\n",
    "        for mutant in offspring:\n",
    "            if random.random() < prob_mut:\n",
    "                toolbox.mutate(mutant)\n",
    "                del mutant.fitness.values\n",
    "        \n",
    "        invalid_individuals = [i for i in offspring if not i.fitness.valid]\n",
    "        fitnesses = map(toolbox.evaluate, invalid_individuals)\n",
    "        \n",
    "        for i, f in zip(invalid_individuals, fitnesses):\n",
    "            i.fitness.values = (f,)\n",
    "        \n",
    "        print(\"Re-evaluated {0} individuals\".format(len(invalid_individuals)))\n",
    "        population[:] = offspring\n",
    "        fits = [i.fitness.values[0] for i in population]\n",
    "        \n",
    "        length = len(population)\n",
    "        mean = sum(fits) / length\n",
    "        sum2 = sum(f*f for f in fits)\n",
    "        std = abs(sum2 / length - mean**2) ** 0.5\n",
    "        \n",
    "        print(\"Min = {0:.2f}, Max = {1:.2f}, Average = {2:.2f}, Stddev = {3:.2f}\".format(min(fits), max(fits), mean, std))\n",
    "        print()\n",
    "    \n",
    "    best = tools.selBest(population, 1)[0]\n",
    "    print(\"Best Individual:\", best)\n",
    "    print(\"# of ones:\", sum(best))\n",
    "\n",
    "widgets.interactive(\n",
    "    evolve,\n",
    "    num_bits=widgets.IntSlider(value=75, min=8, max=512, continuous_update=False),\n",
    "    indpb=widgets.FloatSlider(value=0.05, min=0.01, max=1.0, step=0.01, continuous_update=False),\n",
    "    tournsize=widgets.IntSlider(value=3, min=2, max=8, continuous_update=False),\n",
    "    target_sum=widgets.IntSlider(value=45, min=0, max=512, continuous_update=False),\n",
    "    n=widgets.IntSlider(value=500, min=10, max=5000, continuous_update=False),\n",
    "    prob_cross=widgets.FloatSlider(value=0.5, min=0.0, max=1.0, step=0.1, continuous_update=False),\n",
    "    prob_mut=widgets.FloatSlider(value=0.2, min=0.0, max=1.0, step=0.1, continuous_update=False),\n",
    "    num_generations=widgets.IntSlider(value=60, min=2, max=250, continuous_update=False)\n",
    ")"
   ]
  }
 ],
 "metadata": {
  "kernelspec": {
   "display_name": "Python 3",
   "language": "python",
   "name": "python3"
  },
  "language_info": {
   "codemirror_mode": {
    "name": "ipython",
    "version": 3
   },
   "file_extension": ".py",
   "mimetype": "text/x-python",
   "name": "python",
   "nbconvert_exporter": "python",
   "pygments_lexer": "ipython3",
   "version": "3.6.5"
  }
 },
 "nbformat": 4,
 "nbformat_minor": 2
}
