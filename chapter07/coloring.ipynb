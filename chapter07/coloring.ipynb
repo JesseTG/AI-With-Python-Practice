{
 "cells": [
  {
   "cell_type": "markdown",
   "metadata": {},
   "source": [
    "# Region-Coloring with CSP"
   ]
  },
  {
   "cell_type": "code",
   "execution_count": 2,
   "metadata": {},
   "outputs": [],
   "source": [
    "from simpleai.search import CspProblem, backtrack"
   ]
  },
  {
   "cell_type": "code",
   "execution_count": 6,
   "metadata": {},
   "outputs": [],
   "source": [
    "def constraint_func(variables, values):\n",
    "    return values[0] != values[1]"
   ]
  },
  {
   "cell_type": "code",
   "execution_count": 18,
   "metadata": {},
   "outputs": [],
   "source": [
    "names = ('Mark', 'Julia', 'Steve', 'Amanda', 'Brian', 'Joanne', 'Derek', 'Allan', 'Michelle', 'Kelly')\n",
    "colors = {name: ['red', 'green', 'blue', 'gray'] for name in names}\n",
    "\n",
    "constraints = [\n",
    "    (('Mark', 'Julia'), constraint_func),\n",
    "    (('Mark', 'Steve'), constraint_func),\n",
    "    (('Julia', 'Steve'), constraint_func),\n",
    "    (('Julia', 'Amanda'), constraint_func),\n",
    "    (('Julia', 'Derek'), constraint_func),\n",
    "    (('Julia', 'Brian'), constraint_func),\n",
    "    (('Steve', 'Amanda'), constraint_func),\n",
    "    (('Steve', 'Allan'), constraint_func),\n",
    "    (('Steve', 'Michelle'), constraint_func),\n",
    "    (('Amanda', 'Michelle'), constraint_func),\n",
    "    (('Amanda', 'Joanne'), constraint_func),\n",
    "    (('Amanda', 'Derek'), constraint_func),\n",
    "    (('Brian', 'Derek'), constraint_func),\n",
    "    (('Brian', 'Kelly'), constraint_func),\n",
    "    (('Joanne', 'Michelle'), constraint_func),\n",
    "    (('Joanne', 'Amanda'), constraint_func),\n",
    "    (('Joanne', 'Derek'), constraint_func),\n",
    "    (('Joanne', 'Kelly'), constraint_func),\n",
    "    (('Derek', 'Kelly'), constraint_func),\n",
    "]"
   ]
  },
  {
   "cell_type": "code",
   "execution_count": 19,
   "metadata": {},
   "outputs": [
    {
     "data": {
      "text/plain": [
       "{'Mark': 'red',\n",
       " 'Julia': 'green',\n",
       " 'Steve': 'blue',\n",
       " 'Amanda': 'red',\n",
       " 'Brian': 'red',\n",
       " 'Joanne': 'green',\n",
       " 'Derek': 'blue',\n",
       " 'Allan': 'red',\n",
       " 'Michelle': 'gray',\n",
       " 'Kelly': 'gray'}"
      ]
     },
     "metadata": {},
     "output_type": "display_data"
    }
   ],
   "source": [
    "problem = CspProblem(names, colors, constraints)\n",
    "# Note: \"colors\" must have mutable values\n",
    "# If there is no solution, backtrack(problem) will return None\n",
    "\n",
    "display(backtrack(problem))"
   ]
  }
 ],
 "metadata": {
  "kernelspec": {
   "display_name": "Python 3",
   "language": "python",
   "name": "python3"
  },
  "language_info": {
   "codemirror_mode": {
    "name": "ipython",
    "version": 3
   },
   "file_extension": ".py",
   "mimetype": "text/x-python",
   "name": "python",
   "nbconvert_exporter": "python",
   "pygments_lexer": "ipython3",
   "version": "3.6.5"
  }
 },
 "nbformat": 4,
 "nbformat_minor": 2
}
