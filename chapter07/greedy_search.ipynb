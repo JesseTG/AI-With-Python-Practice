{
 "cells": [
  {
   "cell_type": "markdown",
   "metadata": {},
   "source": [
    "# Constructing a String With Greedy Search"
   ]
  },
  {
   "cell_type": "code",
   "execution_count": 4,
   "metadata": {},
   "outputs": [],
   "source": [
    "import string\n",
    "from simpleai import search\n",
    "\n",
    "ALPHABET = string.ascii_letters + string.digits + string.punctuation + \" \""
   ]
  },
  {
   "cell_type": "code",
   "execution_count": 18,
   "metadata": {},
   "outputs": [],
   "source": [
    "class CustomProblem(search.SearchProblem):\n",
    "    def set_target(self, target_string):\n",
    "        self.target_string = target_string\n",
    "    \n",
    "    def actions(self, current_state):\n",
    "        if len(current_state) < len(self.target_string):\n",
    "            return list(ALPHABET)\n",
    "        else:\n",
    "            return []\n",
    "    \n",
    "    def result(self, current_state, action):\n",
    "        return current_state + action\n",
    "\n",
    "    def is_goal(self, current_state):\n",
    "        return current_state == self.target_string\n",
    "    \n",
    "    def heuristic(self, current_state):\n",
    "        wrong = sum(current_state[i] != self.target_string[i] for i in range(len(current_state)))\n",
    "        \n",
    "        missing = len(self.target_string) - len(current_state)\n",
    "        \n",
    "        return wrong + missing"
   ]
  },
  {
   "cell_type": "code",
   "execution_count": 19,
   "metadata": {},
   "outputs": [
    {
     "data": {
      "text/plain": [
       "[(None, ''),\n",
       " ('A', 'A'),\n",
       " ('r', 'Ar'),\n",
       " ('t', 'Art'),\n",
       " ('i', 'Arti'),\n",
       " ('f', 'Artif'),\n",
       " ('i', 'Artifi'),\n",
       " ('c', 'Artific'),\n",
       " ('i', 'Artifici'),\n",
       " ('a', 'Artificia'),\n",
       " ('l', 'Artificial'),\n",
       " (' ', 'Artificial '),\n",
       " ('I', 'Artificial I'),\n",
       " ('n', 'Artificial In'),\n",
       " ('t', 'Artificial Int'),\n",
       " ('e', 'Artificial Inte'),\n",
       " ('l', 'Artificial Intel'),\n",
       " ('l', 'Artificial Intell'),\n",
       " ('i', 'Artificial Intelli'),\n",
       " ('g', 'Artificial Intellig'),\n",
       " ('e', 'Artificial Intellige'),\n",
       " ('n', 'Artificial Intelligen'),\n",
       " ('c', 'Artificial Intelligenc'),\n",
       " ('e', 'Artificial Intelligence')]"
      ]
     },
     "metadata": {},
     "output_type": "display_data"
    }
   ],
   "source": [
    "problem = CustomProblem()\n",
    "problem.set_target(\"Artificial Intelligence\")\n",
    "problem.initial_state = \"\"\n",
    "\n",
    "output = search.greedy(problem)\n",
    "\n",
    "display(output.path())"
   ]
  }
 ],
 "metadata": {
  "kernelspec": {
   "display_name": "Python 3",
   "language": "python",
   "name": "python3"
  },
  "language_info": {
   "codemirror_mode": {
    "name": "ipython",
    "version": 3
   },
   "file_extension": ".py",
   "mimetype": "text/x-python",
   "name": "python",
   "nbconvert_exporter": "python",
   "pygments_lexer": "ipython3",
   "version": "3.6.5"
  }
 },
 "nbformat": 4,
 "nbformat_minor": 2
}
