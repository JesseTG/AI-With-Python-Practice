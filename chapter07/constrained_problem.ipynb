{
 "cells": [
  {
   "cell_type": "markdown",
   "metadata": {},
   "source": [
    "# Constraint Satisfaction Problems"
   ]
  },
  {
   "cell_type": "code",
   "execution_count": 10,
   "metadata": {},
   "outputs": [],
   "source": [
    "from simpleai.search import *"
   ]
  },
  {
   "cell_type": "code",
   "execution_count": 5,
   "metadata": {},
   "outputs": [],
   "source": [
    "def constraint_unique(variables, values):\n",
    "    # All values must be unique\n",
    "    return len(values) == len(set(values))\n",
    "\n",
    "def constraint_bigger(variables, values):\n",
    "    # The first value must be bigger than the second\n",
    "    return values[0] > values[1]\n",
    "\n",
    "def constraint_odd_even(variables, values):\n",
    "    # The first two variables should have opposite parity\n",
    "    return (values[0] % 2) != (values[1] % 2)\n"
   ]
  },
  {
   "cell_type": "code",
   "execution_count": 6,
   "metadata": {},
   "outputs": [],
   "source": [
    "variables = (\"John\", \"Anna\", \"Tom\", \"Patricia\")\n",
    "\n",
    "values = {\n",
    "    \"John\": [1, 2, 3],\n",
    "    \"Anna\": [1, 3],\n",
    "    \"Tom\": [2, 4],\n",
    "    \"Patricia\": [2, 3, 4]\n",
    "}\n",
    "\n",
    "constraints = (\n",
    "    ((\"John\", \"Anna\", \"Tom\"), constraint_unique),\n",
    "    ((\"Tom\", \"Anna\"), constraint_bigger),\n",
    "    ((\"John\", \"Patricia\"), constraint_odd_even),\n",
    ")"
   ]
  },
  {
   "cell_type": "code",
   "execution_count": 13,
   "metadata": {},
   "outputs": [
    {
     "name": "stdout",
     "output_type": "stream",
     "text": [
      "Solution (Normal)                   : {'John': 1, 'Anna': 3, 'Tom': 4, 'Patricia': 2}\n",
      "Solution (Most Constrained Variable): {'Anna': 1, 'Tom': 2, 'John': 3, 'Patricia': 2}\n",
      "Solution (Highest Degree Variable)  : {'John': 1, 'Anna': 3, 'Tom': 4, 'Patricia': 2}\n",
      "Solution (Least Constraining Value) : {'John': 1, 'Anna': 3, 'Tom': 4, 'Patricia': 2}\n",
      "Solution (MCV + LCV)                : {'Anna': 1, 'Tom': 2, 'John': 3, 'Patricia': 2}\n",
      "Solution (HDV + LCV)                : {'John': 1, 'Anna': 3, 'Tom': 4, 'Patricia': 2}\n",
      "Solution (Minimum Conflicts)        : {'John': 3, 'Anna': 1, 'Tom': 2, 'Patricia': 2}\n"
     ]
    }
   ],
   "source": [
    "problem = CspProblem(variables, values, constraints)\n",
    "# Note: domains must be finite\n",
    "\n",
    "print(\"Solution (Normal)                   :\", backtrack(problem))\n",
    "print(\"Solution (Most Constrained Variable):\", backtrack(problem, variable_heuristic=MOST_CONSTRAINED_VARIABLE))\n",
    "print(\"Solution (Highest Degree Variable)  :\", backtrack(problem, variable_heuristic=HIGHEST_DEGREE_VARIABLE))\n",
    "print(\"Solution (Least Constraining Value) :\", backtrack(problem, value_heuristic=LEAST_CONSTRAINING_VALUE))\n",
    "print(\"Solution (MCV + LCV)                :\", backtrack(problem, value_heuristic=LEAST_CONSTRAINING_VALUE, variable_heuristic=MOST_CONSTRAINED_VARIABLE))\n",
    "print(\"Solution (HDV + LCV)                :\", backtrack(problem, value_heuristic=LEAST_CONSTRAINING_VALUE, variable_heuristic=HIGHEST_DEGREE_VARIABLE))\n",
    "print(\"Solution (Minimum Conflicts)        :\", min_conflicts(problem))"
   ]
  }
 ],
 "metadata": {
  "kernelspec": {
   "display_name": "Python 3",
   "language": "python",
   "name": "python3"
  },
  "language_info": {
   "codemirror_mode": {
    "name": "ipython",
    "version": 3
   },
   "file_extension": ".py",
   "mimetype": "text/x-python",
   "name": "python",
   "nbconvert_exporter": "python",
   "pygments_lexer": "ipython3",
   "version": "3.6.5"
  }
 },
 "nbformat": 4,
 "nbformat_minor": 2
}
