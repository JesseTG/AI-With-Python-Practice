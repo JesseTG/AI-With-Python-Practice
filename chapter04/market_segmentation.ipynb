{
 "cells": [
  {
   "cell_type": "markdown",
   "metadata": {},
   "source": [
    "# Market Segmentation"
   ]
  },
  {
   "cell_type": "code",
   "execution_count": 1,
   "metadata": {},
   "outputs": [],
   "source": [
    "import csv\n",
    "import numpy\n",
    "from matplotlib import pyplot\n",
    "from sklearn.cluster import MeanShift, estimate_bandwidth"
   ]
  },
  {
   "cell_type": "markdown",
   "metadata": {},
   "source": [
    "## Loading Data"
   ]
  },
  {
   "cell_type": "code",
   "execution_count": 6,
   "metadata": {},
   "outputs": [],
   "source": [
    "with open(\"sales.csv\", 'r') as file:\n",
    "    reader = csv.reader(file, delimiter=',')\n",
    "    \n",
    "    rows = []\n",
    "    for i, row in enumerate(reader):\n",
    "        if not i:\n",
    "            names = row[1:]\n",
    "            continue\n",
    "        \n",
    "        rows.append([float(x) for x in row[1:]])\n",
    "\n",
    "    data = numpy.array(rows)\n"
   ]
  },
  {
   "cell_type": "code",
   "execution_count": 18,
   "metadata": {},
   "outputs": [
    {
     "name": "stdout",
     "output_type": "stream",
     "text": [
      "Centers of 9 clusters:\n",
      "Tsh\tTan\tHal\tTur\tTub\tSwe\n",
      "9823\t4637\t6539\t2607\t2228\t1239\n",
      "38589\t44199\t56158\t5030\t24674\t4125\n",
      "28333\t34263\t24065\t5575\t4229\t18076\n",
      "14987\t46397\t97393\t1127\t37315\t3235\n",
      "22617\t77873\t32543\t1005\t21035\t837\n",
      "104972\t29186\t19415\t16016\t5060\t9372\n",
      "38741\t40539\t20120\t35059\t255\t50710\n",
      "35314\t16745\t12775\t66900\t1298\t5613\n",
      "7852\t4939\t63081\t134\t40066\t1332\n"
     ]
    }
   ],
   "source": [
    "bandwidth = estimate_bandwidth(data, quantile=0.8, n_samples=len(data))\n",
    "\n",
    "meanshift = MeanShift(bandwidth=bandwidth, bin_seeding=True)\n",
    "meanshift.fit(data)\n",
    "\n",
    "labels = meanshift.labels_\n",
    "centers = meanshift.cluster_centers_\n",
    "num_clusters = len(numpy.unique(labels))\n",
    "centers_2d = centers[:, 1:3]\n",
    "\n",
    "print(\"Centers of {0} clusters:\".format(num_clusters))\n",
    "print('\\t'.join(name[:3] for name in names))\n",
    "for center in centers:\n",
    "    print('\\t'.join(str(int(x)) for x in center))"
   ]
  },
  {
   "cell_type": "code",
   "execution_count": 19,
   "metadata": {},
   "outputs": [
    {
     "data": {
      "image/png": "[encoded data removed]",
      "text/plain": [
       "<matplotlib.figure.Figure at 0x7fcb9bb416a0>"
      ]
     },
     "metadata": {},
     "output_type": "display_data"
    }
   ],
   "source": [
    "pyplot.figure()\n",
    "pyplot.scatter(centers_2d[:, 0], centers_2d[:, 1], s=120, edgecolors='black', facecolors='none')\n",
    "offset = 0.25\n",
    "centers_2dx, centers_2dy = centers_2d[:, 0], centers_2d[:, 1]\n",
    "pyplot.xlim(centers_2dx.min() - offset * centers_2dx.ptp(), centers_2dx.max() + offset * centers_2dx.ptp())\n",
    "pyplot.ylim(centers_2dy.min() - offset * centers_2dy.ptp(), centers_2dy.max() + offset * centers_2dy.ptp())\n",
    "pyplot.title(\"Centers of 2D Clusters\")\n",
    "pyplot.show()"
   ]
  }
 ],
 "metadata": {
  "kernelspec": {
   "display_name": "Python 3",
   "language": "python",
   "name": "python3"
  },
  "language_info": {
   "codemirror_mode": {
    "name": "ipython",
    "version": 3
   },
   "file_extension": ".py",
   "mimetype": "text/x-python",
   "name": "python",
   "nbconvert_exporter": "python",
   "pygments_lexer": "ipython3",
   "version": "3.6.5"
  }
 },
 "nbformat": 4,
 "nbformat_minor": 2
}
