{
 "cells": [
  {
   "cell_type": "markdown",
   "metadata": {},
   "source": [
    "# Mean Shifting: Guessing the Number of Classes\n",
    "\n",
    "- Useful for estimating the number of clusters in a K-Means run\n",
    "- Non-parametric, i.e. makes no assumptions about the underlying distribution (as opposed to the Gaussian classifiers)\n",
    "\n",
    "The whole feature space is a probability density function.  Each datum in the training set is assumed to come from a probability distribution, with each cluster corresponding to a local maximum in the distribution."
   ]
  },
  {
   "cell_type": "code",
   "execution_count": 13,
   "metadata": {},
   "outputs": [],
   "source": [
    "from itertools import cycle\n",
    "import numpy\n",
    "from matplotlib import pyplot\n",
    "from sklearn.cluster import MeanShift, estimate_bandwidth"
   ]
  },
  {
   "cell_type": "code",
   "execution_count": 14,
   "metadata": {},
   "outputs": [],
   "source": [
    "data = numpy.loadtxt(\"data_clustering.txt\", delimiter=\",\")"
   ]
  },
  {
   "cell_type": "markdown",
   "metadata": {},
   "source": [
    "## Estimating Bandwidth\n",
    "\n",
    "Bandwidth is a parameter of the input data, which is used to determine how many clusters there will be at the end."
   ]
  },
  {
   "cell_type": "code",
   "execution_count": 34,
   "metadata": {},
   "outputs": [
    {
     "data": {
      "text/plain": [
       "1.3044799765090382"
      ]
     },
     "execution_count": 34,
     "metadata": {},
     "output_type": "execute_result"
    }
   ],
   "source": [
    "bandwidth = estimate_bandwidth(data, quantile=0.1, n_samples=len(data), n_jobs=-1)\n",
    "bandwidth"
   ]
  },
  {
   "cell_type": "markdown",
   "metadata": {},
   "source": [
    "## Training the Model"
   ]
  },
  {
   "cell_type": "code",
   "execution_count": 35,
   "metadata": {},
   "outputs": [
    {
     "name": "stdout",
     "output_type": "stream",
     "text": [
      "5 Clusters: (Labels [0 1 2 3 4])\n",
      "[[ 2.95568966  1.95775862]\n",
      " [ 7.17563636  2.18145455]\n",
      " [ 2.17603774  8.03283019]\n",
      " [ 5.97960784  8.39078431]\n",
      " [ 4.81044444  5.07111111]]\n"
     ]
    }
   ],
   "source": [
    "meanshift = MeanShift(bandwidth=bandwidth, bin_seeding=True, n_jobs=-1)\n",
    "meanshift.fit(data)\n",
    "centers = meanshift.cluster_centers_\n",
    "num_centers = len(centers)\n",
    "unique_labels = numpy.unique(meanshift.labels_)\n",
    "labels = meanshift.labels_\n",
    "\n",
    "print(\"{0} Clusters: (Labels {1})\".format(num_centers, unique_labels))\n",
    "print(centers)"
   ]
  },
  {
   "cell_type": "markdown",
   "metadata": {},
   "source": [
    "## Plotting It"
   ]
  },
  {
   "cell_type": "code",
   "execution_count": 36,
   "metadata": {},
   "outputs": [
    {
     "data": {
      "image/png": "[encoded data removed]",
      "text/plain": [
       "<matplotlib.figure.Figure at 0x7ffbc7c9b0b8>"
      ]
     },
     "metadata": {},
     "output_type": "display_data"
    }
   ],
   "source": [
    "pyplot.figure()\n",
    "markers = 'o*xvs'\n",
    "for i, marker in zip(range(num_centers), markers):\n",
    "    # For each cluster...\n",
    "    pyplot.scatter(data[labels == i, 0], data[labels == i, 1], marker=marker, color='black')\n",
    "    center = centers[i]\n",
    "    pyplot.plot(center[0], center[1], marker='o', markerfacecolor='red', markeredgecolor='black', markersize=15)\n",
    "\n",
    "pyplot.title(\"Clusters\")\n",
    "pyplot.show()"
   ]
  }
 ],
 "metadata": {
  "kernelspec": {
   "display_name": "Python 3",
   "language": "python",
   "name": "python3"
  },
  "language_info": {
   "codemirror_mode": {
    "name": "ipython",
    "version": 3
   },
   "file_extension": ".py",
   "mimetype": "text/x-python",
   "name": "python",
   "nbconvert_exporter": "python",
   "pygments_lexer": "ipython3",
   "version": "3.6.5"
  }
 },
 "nbformat": 4,
 "nbformat_minor": 2
}
