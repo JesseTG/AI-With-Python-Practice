{
 "cells": [
  {
   "cell_type": "markdown",
   "metadata": {},
   "source": [
    "# Predicting Traffic\n",
    "\n",
    "We will be predicting how many vehicles are on a stretch of road near a baseball stadium"
   ]
  },
  {
   "cell_type": "code",
   "execution_count": 22,
   "metadata": {},
   "outputs": [],
   "source": [
    "import numpy\n",
    "from matplotlib import pyplot\n",
    "from sklearn.metrics import classification_report, mean_absolute_error\n",
    "from sklearn.ensemble import ExtraTreesRegressor\n",
    "from sklearn import model_selection, preprocessing\n",
    "import ipywidgets as widgets\n",
    "from IPython.display import display"
   ]
  },
  {
   "cell_type": "markdown",
   "metadata": {},
   "source": [
    "## Loading Data"
   ]
  },
  {
   "cell_type": "code",
   "execution_count": 33,
   "metadata": {},
   "outputs": [],
   "source": [
    "input_file = \"traffic_data.txt\"\n",
    "records = []\n",
    "\n",
    "with open(input_file, 'r') as file:\n",
    "    for line in file.readlines():\n",
    "        records.append(line[:-1].split(\",\"))\n",
    "\n",
    "data = numpy.array(records)\n",
    "\n",
    "label_encoders = []\n",
    "data_encoded = numpy.empty(data.shape)\n",
    "for i, item in enumerate(records[0]):\n",
    "    # For each attribute...\n",
    "    if item.isdigit():\n",
    "        data_encoded[:, i] = data[:, i]\n",
    "    else:\n",
    "        label_encoders.append(preprocessing.LabelEncoder())\n",
    "        data_encoded[:, i] = label_encoders[-1].fit_transform(data[:, i])\n",
    "\n",
    "features = data_encoded[:, :-1].astype(int)\n",
    "classes = data_encoded[:, -1].astype(int)"
   ]
  },
  {
   "cell_type": "markdown",
   "metadata": {},
   "source": [
    "## Training the Regressor"
   ]
  },
  {
   "cell_type": "code",
   "execution_count": 34,
   "metadata": {},
   "outputs": [
    {
     "name": "stdout",
     "output_type": "stream",
     "text": [
      "Mean Absolute Error: 7.42\n"
     ]
    }
   ],
   "source": [
    "split = model_selection.train_test_split(features, classes, test_size=0.25, random_state=5)\n",
    "feature_train, feature_test = split[0], split[1]\n",
    "class_train, class_test = split[2], split[3]\n",
    "\n",
    "regressor = ExtraTreesRegressor(n_estimators=100, max_depth=4, random_state=0)\n",
    "regressor.fit(feature_train, class_train)\n",
    "\n",
    "predictions = regressor.predict(feature_test)\n",
    "mad = mean_absolute_error(class_test, predictions)\n",
    "\n",
    "print(\"Mean Absolute Error: {:.2f}\".format(mad))"
   ]
  },
  {
   "cell_type": "markdown",
   "metadata": {},
   "source": [
    "## Setting Up the Widgets"
   ]
  },
  {
   "cell_type": "code",
   "execution_count": 49,
   "metadata": {},
   "outputs": [],
   "source": [
    "def dropdown(encoder, description):\n",
    "    return widgets.Dropdown(\n",
    "        options=list(sorted(encoder.classes_)),\n",
    "        description=description\n",
    "    )\n",
    "\n",
    "date = dropdown(label_encoders[0], \"Weekday\")\n",
    "time = dropdown(label_encoders[1], \"Time of Day\")\n",
    "away_team = dropdown(label_encoders[2], \"Away Team\")\n",
    "active_game = dropdown(label_encoders[3], \"Active Game?\")"
   ]
  },
  {
   "cell_type": "markdown",
   "metadata": {},
   "source": [
    "## Predicting Traffic"
   ]
  },
  {
   "cell_type": "code",
   "execution_count": 50,
   "metadata": {},
   "outputs": [
    {
     "data": {
      "application/vnd.jupyter.widget-view+json": {
       "model_id": "91bf90004c1747d4ab18d6918f21dfee",
       "version_major": 2,
       "version_minor": 0
      },
      "text/plain": [
       "interactive(children=(Dropdown(description='Weekday', options=('Friday', 'Monday', 'Saturday', 'Sunday', 'Thur…"
      ]
     },
     "metadata": {},
     "output_type": "display_data"
    }
   ],
   "source": [
    "def predict(date, time, away_team, active_game):\n",
    "    test_datapoint = [date, time, away_team, active_game]\n",
    "    test_datapoint_encoded = [-1] * len(test_datapoint)\n",
    "    \n",
    "    count = 0\n",
    "    for i, item in enumerate(test_datapoint):\n",
    "        if item.isdigit():\n",
    "            test_datapoint_encoded[i] = int(test_datapoint[i])\n",
    "        else:\n",
    "            test_datapoint_encoded[i] = int(label_encoders[count].transform([test_datapoint[i]]))\n",
    "            count += 1\n",
    "\n",
    "    print(\"Predicted traffic: {0:.0f}\".format(regressor.predict([test_datapoint_encoded])[0]))\n",
    "\n",
    "widgets.interactive(\n",
    "    predict,\n",
    "    date=date,\n",
    "    time=time,\n",
    "    away_team=away_team,\n",
    "    active_game=active_game\n",
    ")"
   ]
  }
 ],
 "metadata": {
  "kernelspec": {
   "display_name": "Python 3",
   "language": "python",
   "name": "python3"
  },
  "language_info": {
   "codemirror_mode": {
    "name": "ipython",
    "version": 3
   },
   "file_extension": ".py",
   "mimetype": "text/x-python",
   "name": "python",
   "nbconvert_exporter": "python",
   "pygments_lexer": "ipython3",
   "version": "3.6.5"
  }
 },
 "nbformat": 4,
 "nbformat_minor": 2
}
